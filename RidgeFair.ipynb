{
 "cells": [
  {
   "cell_type": "code",
   "execution_count": 33,
   "metadata": {},
   "outputs": [],
   "source": [
    "import numpy as np\n",
    "from numpy import transpose\n",
    "from numpy.linalg import inv, det\n",
    "from scipy.stats import norm"
   ]
  },
  {
   "cell_type": "code",
   "execution_count": 41,
   "metadata": {},
   "outputs": [],
   "source": [
    "def ridgeFair(X, Y, k, d, _delta, T, _lambda):\n",
    "    \"\"\"\n",
    "    Simulates T rounds of ridgeFair.\n",
    "    \n",
    "    :param X: a 3-axis (T, k, d) ndarray of d-dimensional context vectors for each\n",
    "              time-step and arm\n",
    "    :param Y: a T x k ndarray of reward function output for each context vector\n",
    "    :param k: the number of arms\n",
    "    :param d: the number of features\n",
    "    :param _delta: confidence parameter\n",
    "    :param T: the number of iterations\n",
    "    :param _lambda:   \n",
    "    \"\"\"\n",
    "    picks = []\n",
    "    for t in range (1,50): # for t >= 1 # right now its 1 - 49\n",
    "        for i in range(k): # for 1 <= i <= k\n",
    "            R = 1\n",
    "            intervals = []\n",
    "#             try:\n",
    "            X_i = X[t,:i] # design matrix (taking all of axis i from X?)\n",
    "            Y_i = Y[t,:i] # sem with Y\n",
    "            Xti = X[:t+1,i] # feature vector for arm i in round t\n",
    "\n",
    "            _X_iT = transpose(X_i)\n",
    "            _idenD = np.identity(d)\n",
    "            V_it = _X_iT.dot(X_i)+(_lambda*_idenD) # computing V_it as line 5\n",
    "\n",
    "            B_it = inv(V_it).dot(_X_iT).dot(Y_i) # computing line 6\n",
    "            y_ti = transpose(Xti).dot(B_it) #computing line 7\n",
    "\n",
    "            _V_itI = inv(V_it) # inverse of V_it\n",
    "            _Wti1 = norm(Xti,_V_itI) # computing first part of W_ti\n",
    "            _Wti2 = R*sqrt(d*log((1+(t/_lambda))/_delta))+sqrt(_lambda) # computing second part of W_ti\n",
    "            W_ti = _Wti1*_Wti2 # computing W_ti as line 8\n",
    "\n",
    "            intervals.append([yh_t_i - w_t_i, yh_t_i + w_t_i]) # line 9\n",
    "#             except:\n",
    "#                     print('Error in assigning interval value.')\n",
    "#                     intervals = None\n",
    "#                     break\n",
    "            if not intervals:\n",
    "                picks.append(np.random.randint(0,k))\n",
    "            else:\n",
    "                i_st = np.argmax(np.array(intervals)[:,1]) # line 10\n",
    "                chain = compute_chain(i_st, np.array(intervals), k) # line 11\n",
    "                picks.append(np.random.choice(chain)) # play uniformly random from chain\n",
    "            "
   ]
  },
  {
   "cell_type": "code",
   "execution_count": 42,
   "metadata": {
    "collapsed": true
   },
   "outputs": [],
   "source": [
    "def compute_chain(i_st, intervals, k):\n",
    "    # Sort intervals by decreasing order.\n",
    "    chain = [i_st]\n",
    "    print(intervals[:,1])\n",
    "    ordering = np.argsort(intervals[:,1])[::-1]\n",
    "    intervals = intervals[ordering,:]\n",
    "    \n",
    "    lowest_in_chain = intervals[0][0]\n",
    "    for i in range(1, k):\n",
    "        if intervals[i][1] >= lowest_in_chain:\n",
    "            chain.append(i)\n",
    "            lowest_in_chain = min(lowest_in_chain, intervals[i][0])\n",
    "        else:\n",
    "            return chain\n",
    "    return chain"
   ]
  },
  {
   "cell_type": "code",
   "execution_count": 43,
   "metadata": {
    "collapsed": true
   },
   "outputs": [],
   "source": [
    "def beta(k, d, c):\n",
    "    \"\"\" \n",
    "    Generates the scaled down feature weights for a true model from the distribution\n",
    "    β ∼ U[0, c]^d.\n",
    "    \n",
    "    :param k: the number of arms \n",
    "    :param d: the number of features\n",
    "    :param c: the scale of the feature weights\n",
    "    \"\"\"\n",
    "    return np.random.uniform(0, c+1, size=(k, d))"
   ]
  },
  {
   "cell_type": "code",
   "execution_count": 40,
   "metadata": {},
   "outputs": [
    {
     "ename": "ValueError",
     "evalue": "shapes (10,2) and (10,) not aligned: 2 (dim 1) != 10 (dim 0)",
     "output_type": "error",
     "traceback": [
      "\u001b[0;31m---------------------------------------------------------------------------\u001b[0m",
      "\u001b[0;31mValueError\u001b[0m                                Traceback (most recent call last)",
      "\u001b[0;32m<ipython-input-40-1bdc4cafba0b>\u001b[0m in \u001b[0;36m<module>\u001b[0;34m()\u001b[0m\n\u001b[1;32m      6\u001b[0m \u001b[0mB\u001b[0m \u001b[0;34m=\u001b[0m \u001b[0mbeta\u001b[0m\u001b[0;34m(\u001b[0m\u001b[0mk\u001b[0m\u001b[0;34m,\u001b[0m \u001b[0md\u001b[0m\u001b[0;34m,\u001b[0m \u001b[0mc\u001b[0m\u001b[0;34m)\u001b[0m                           \u001b[0;31m# true parameters. B[i]: params for arm i\u001b[0m\u001b[0;34m\u001b[0m\u001b[0m\n\u001b[1;32m      7\u001b[0m \u001b[0mY\u001b[0m \u001b[0;34m=\u001b[0m \u001b[0mnp\u001b[0m\u001b[0;34m.\u001b[0m\u001b[0marray\u001b[0m\u001b[0;34m(\u001b[0m\u001b[0;34m[\u001b[0m\u001b[0mnp\u001b[0m\u001b[0;34m.\u001b[0m\u001b[0mdiag\u001b[0m\u001b[0;34m(\u001b[0m\u001b[0mX\u001b[0m\u001b[0;34m[\u001b[0m\u001b[0mt\u001b[0m\u001b[0;34m]\u001b[0m\u001b[0;34m.\u001b[0m\u001b[0mdot\u001b[0m\u001b[0;34m(\u001b[0m\u001b[0mtranspose\u001b[0m\u001b[0;34m(\u001b[0m\u001b[0mB\u001b[0m\u001b[0;34m)\u001b[0m\u001b[0;34m)\u001b[0m\u001b[0;34m)\u001b[0m \u001b[0;32mfor\u001b[0m \u001b[0mt\u001b[0m \u001b[0;32min\u001b[0m \u001b[0mrange\u001b[0m\u001b[0;34m(\u001b[0m\u001b[0mT\u001b[0m\u001b[0;34m)\u001b[0m\u001b[0;34m]\u001b[0m\u001b[0;34m)\u001b[0m\u001b[0;34m\u001b[0m\u001b[0m\n\u001b[0;32m----> 8\u001b[0;31m \u001b[0mridgeFair\u001b[0m\u001b[0;34m(\u001b[0m\u001b[0mX\u001b[0m\u001b[0;34m,\u001b[0m \u001b[0mY\u001b[0m\u001b[0;34m,\u001b[0m \u001b[0mk\u001b[0m\u001b[0;34m,\u001b[0m \u001b[0md\u001b[0m\u001b[0;34m,\u001b[0m \u001b[0;36m0.05\u001b[0m\u001b[0;34m,\u001b[0m \u001b[0mT\u001b[0m\u001b[0;34m,\u001b[0m \u001b[0;36m1\u001b[0m\u001b[0;34m)\u001b[0m\u001b[0;34m\u001b[0m\u001b[0m\n\u001b[0m",
      "\u001b[0;32m<ipython-input-37-3756ac28c3f8>\u001b[0m in \u001b[0;36mridgeFair\u001b[0;34m(X, Y, k, d, _delta, T, _lambda)\u001b[0m\n\u001b[1;32m     27\u001b[0m \u001b[0;34m\u001b[0m\u001b[0m\n\u001b[1;32m     28\u001b[0m             \u001b[0mB_it\u001b[0m \u001b[0;34m=\u001b[0m \u001b[0minv\u001b[0m\u001b[0;34m(\u001b[0m\u001b[0mV_it\u001b[0m\u001b[0;34m)\u001b[0m\u001b[0;34m.\u001b[0m\u001b[0mdot\u001b[0m\u001b[0;34m(\u001b[0m\u001b[0m_X_iT\u001b[0m\u001b[0;34m)\u001b[0m\u001b[0;34m.\u001b[0m\u001b[0mdot\u001b[0m\u001b[0;34m(\u001b[0m\u001b[0mY_i\u001b[0m\u001b[0;34m)\u001b[0m \u001b[0;31m# computing line 6\u001b[0m\u001b[0;34m\u001b[0m\u001b[0m\n\u001b[0;32m---> 29\u001b[0;31m             \u001b[0my_ti\u001b[0m \u001b[0;34m=\u001b[0m \u001b[0mtranspose\u001b[0m\u001b[0;34m(\u001b[0m\u001b[0mXti\u001b[0m\u001b[0;34m)\u001b[0m\u001b[0;34m.\u001b[0m\u001b[0mdot\u001b[0m\u001b[0;34m(\u001b[0m\u001b[0mB_it\u001b[0m\u001b[0;34m)\u001b[0m \u001b[0;31m#computing line 7\u001b[0m\u001b[0;34m\u001b[0m\u001b[0m\n\u001b[0m\u001b[1;32m     30\u001b[0m \u001b[0;34m\u001b[0m\u001b[0m\n\u001b[1;32m     31\u001b[0m             \u001b[0m_V_itI\u001b[0m \u001b[0;34m=\u001b[0m \u001b[0minv\u001b[0m\u001b[0;34m(\u001b[0m\u001b[0mV_it\u001b[0m\u001b[0;34m)\u001b[0m \u001b[0;31m# inverse of V_it\u001b[0m\u001b[0;34m\u001b[0m\u001b[0m\n",
      "\u001b[0;31mValueError\u001b[0m: shapes (10,2) and (10,) not aligned: 2 (dim 1) != 10 (dim 0)"
     ]
    }
   ],
   "source": [
    "k = 2\n",
    "c = 10\n",
    "d = 10\n",
    "T = 1000\n",
    "X = np.random.uniform(0, 1, size=(T, k, d)) # 3-axis ndarray\n",
    "B = beta(k, d, c)                           # true parameters. B[i]: params for arm i\n",
    "Y = np.array([np.diag(X[t].dot(transpose(B))) for t in range(T)])\n",
    "ridgeFair(X, Y, k, d, 0.05, T, 1)"
   ]
  },
  {
   "cell_type": "code",
   "execution_count": null,
   "metadata": {
    "collapsed": true
   },
   "outputs": [],
   "source": []
  }
 ],
 "metadata": {
  "kernelspec": {
   "display_name": "Python 3",
   "language": "python",
   "name": "python3"
  },
  "language_info": {
   "codemirror_mode": {
    "name": "ipython",
    "version": 3
   },
   "file_extension": ".py",
   "mimetype": "text/x-python",
   "name": "python",
   "nbconvert_exporter": "python",
   "pygments_lexer": "ipython3",
   "version": "3.5.2"
  }
 },
 "nbformat": 4,
 "nbformat_minor": 2
}
