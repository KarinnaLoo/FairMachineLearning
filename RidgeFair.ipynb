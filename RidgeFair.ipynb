{
 "cells": [
  {
   "cell_type": "code",
   "execution_count": 17,
   "metadata": {
    "collapsed": true
   },
   "outputs": [],
   "source": [
    "import numpy as np\n",
    "from numpy import transpose\n",
    "from numpy.linalg import inv, det\n",
    "from scipy.stats import norm"
   ]
  },
  {
   "cell_type": "code",
   "execution_count": 22,
   "metadata": {},
   "outputs": [],
   "source": [
    "def ridgeFair(X, Y, k, d, _delta, T, _lambda):\n",
    "    \"\"\"\n",
    "    Simulates T rounds of ridgeFair.\n",
    "    \n",
    "    :param X: a 3-axis (T, k, d) ndarray of d-dimensional context vectors for each\n",
    "              time-step and arm\n",
    "    :param Y: a T x k ndarray of reward function output for each context vector\n",
    "    :param k: the number of arms\n",
    "    :param d: the number of features\n",
    "    :param _delta: confidence parameter\n",
    "    :param T: the number of iterations\n",
    "    :param _lambda:  \n",
    "    \"\"\"\n",
    "    picks = []\n",
    "    for t in itertools.count(): # for t >= 1\n",
    "        for i in range(k): # for 1 <= i <= k\n",
    "            R = 1\n",
    "            intervals = []\n",
    "            X_i = X[:i] # design matrix (taking all of axis i from X?)\n",
    "            Y_i = Y[:i] # sem with Y\n",
    "            Xti = X[:t+1,i] # feature vector for arm i in round t\n",
    "            \n",
    "            _X_iT = transpose(X_i) # transpose of X_i\n",
    "            _idenD = np.identity(d) # identity matrix of dimention d x d\n",
    "            V_it = _x_iT.dot(X_i)+(_lambda*_idenD) # computing V_it as line 5\n",
    "            \n",
    "            B_it = inv(V_it).dot(_X_iT).dot(Y_i) # computing line 6\n",
    "            y_ti = transpose(Xti).dot(B_it) #computing line 7\n",
    "            \n",
    "            _V_itI = inv(V_it) # inverse of V_it\n",
    "            _Wti1 = norm(Xti)*_V_itI # computing first part of W_ti\n",
    "            _Wti2 = R*sqrt(d*log((1+(t/_lambda))/_delta))+sqrt(_lambda) # computing second part of W_ti\n",
    "            W_ti = _Wti1*_Wti2 # computing W_ti as line 8\n",
    "            \n",
    "            intervals.append([yh_t_i - w_t_i, yh_t_i + w_t_i]) # line 9\n",
    "            picks.append(np.argmax(np.array(intervals)[:,1]) if intervals else np.random.randint(0,k)) # line 10\n",
    "            \n",
    "            # let S_t be the set of actions chained to i^t?\n",
    "            # line 15 best = [Y[i].max() for i in range(2, T)]\n",
    "            # line 16 performance = [Y[t][picks[t-2]] for t in range(2, T)]\n",
    "            # line 17 update X_i, Y_i\n",
    "            "
   ]
  }
 ],
 "metadata": {
  "kernelspec": {
   "display_name": "Python 3",
   "language": "python",
   "name": "python3"
  },
  "language_info": {
   "codemirror_mode": {
    "name": "ipython",
    "version": 3
   },
   "file_extension": ".py",
   "mimetype": "text/x-python",
   "name": "python",
   "nbconvert_exporter": "python",
   "pygments_lexer": "ipython3",
   "version": "3.5.2"
  }
 },
 "nbformat": 4,
 "nbformat_minor": 2
}
