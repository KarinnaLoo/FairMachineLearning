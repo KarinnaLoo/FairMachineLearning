{
 "cells": [
  {
   "cell_type": "code",
   "execution_count": 368,
   "metadata": {
    "collapsed": true
   },
   "outputs": [],
   "source": [
    "import numpy as np\n",
    "from numpy import transpose\n",
    "from numpy.linalg import inv, det\n",
    "from scipy.stats import norm"
   ]
  },
  {
   "cell_type": "code",
   "execution_count": 34,
   "metadata": {
    "collapsed": false
   },
   "outputs": [],
   "source": [
    "def eta(T):\n",
    "    \"\"\" Generates the cutoff probabilities for exploration rounds in interval chaining. \"\"\"\n",
    "    return np.array([pow(t, -1/3) for t in range(1,T+1)])"
   ]
  },
  {
   "cell_type": "code",
   "execution_count": 257,
   "metadata": {
    "collapsed": false
   },
   "outputs": [],
   "source": [
    "def beta(k, d, c):\n",
    "    \"\"\" Generates the scaled down feature weights for a true model. \"\"\"\n",
    "    return np.random.uniform(0, c+1, size=(k, d))"
   ]
  },
  {
   "cell_type": "code",
   "execution_count": 453,
   "metadata": {
    "collapsed": false
   },
   "outputs": [],
   "source": [
    "def interval_chaining(c, k, d, _delta, T):\n",
    "    \"\"\"\n",
    "    Simulates T rounds of interval chaining.\n",
    "    \"\"\"\n",
    "    \n",
    "    X = np.random.uniform(0, 1, size=(k, T, d))  # 3-axis ndarray\n",
    "#     X = np.random.normal(0.5, 0.5, (k, T, d))\n",
    "    _eta = eta(T)                             # exploration cutoff probabilities\n",
    "    B = beta(k, d, c)                         # true parameters. B[i]: params for arm i\n",
    "    Y = np.array([X[i].dot(transpose(B[i])) for i in range(k)])  # not sure if there's a cleaner way to do this\n",
    "    picks = []\n",
    "    for t in range(2, T):\n",
    "        print('Iteration [{0} / {1}]'.format(t, T))\n",
    "        r = np.random.randint(k)\n",
    "        if r <= _eta[t]:\n",
    "            # Play uniformly at random from [1, k].\n",
    "            pass\n",
    "        intervals = []\n",
    "        for i in range(k):\n",
    "            # Compute beta hat.\n",
    "#             print(X[i][:t+1])\n",
    "            _Xti = X[i][:t+1]\n",
    "            _XtiT = transpose(_Xti)\n",
    "            try:\n",
    "                _XTX = inv(_XtiT.dot(_Xti))\n",
    "            except:\n",
    "                print('Encountered singular matrix. Ignoring.')\n",
    "                continue\n",
    "            _Yti = Y[i][:t+1]\n",
    "            Bh_t_i = _XTX.dot(_XtiT).dot(_Yti)  # Compute OLS estimators.\n",
    "            yh_t_i = Bh_t_i.dot(X[i][t])\n",
    "            _s2 = np.var(Y[i][:t+1])\n",
    "            w_t_i = norm.ppf(1 - _delta/(2*T*k), loc=0, scale=np.sqrt(_s2 * X[i][t].dot(_XTX).dot(transpose(X[i][t]))))\n",
    "            intervals.append([yh_t_i - w_t_i, yh_t_i + w_t_i])\n",
    "        # Pick the agent with the largest upper bound for now.\n",
    "        picks.append(np.argmax(np.array(intervals)[:,1]) if intervals else None)\n",
    "        print(intervals)\n",
    "    # Compute sum of best picks over each iteration.\n",
    "    best = [transpose(Y)[i].max() for i in range(2, T)]\n",
    "    print('Best: {0}'.format(sum(best)))\n",
    "    print('Algorithm: {0}'.format(sum([Y[picks[t-2]][t] for t in range(2, T)])))\n",
    "    print(picks)\n",
    "            "
   ]
  },
  {
   "cell_type": "code",
   "execution_count": 455,
   "metadata": {
    "collapsed": false
   },
   "outputs": [
    {
     "name": "stdout",
     "output_type": "stream",
     "text": [
      "Iteration [2 / 50]\n",
      "Encountered singular matrix. Ignoring.\n",
      "Encountered singular matrix. Ignoring.\n",
      "[]\n",
      "Iteration [3 / 50]\n",
      "Encountered singular matrix. Ignoring.\n",
      "[[nan, nan]]\n",
      "Iteration [4 / 50]\n",
      "[[-99.442668172822508, -79.043425194195734], [144.11523001529076, 204.90587754959483]]\n",
      "Iteration [5 / 50]\n",
      "[[40.361950830429905, 60.305228632956357], [30.010993806059474, 72.203377746881841]]\n",
      "Iteration [6 / 50]\n",
      "[[nan, nan], [50.470402551485734, 84.253704443745733]]\n",
      "Iteration [7 / 50]\n",
      "[[9.1830877955076797, 35.916962051442134], [26.656765983333912, 58.098538897056343]]\n",
      "Iteration [8 / 50]\n",
      "Encountered singular matrix. Ignoring.\n",
      "[[57.362832173305257, 85.501900234131966]]\n",
      "Iteration [9 / 50]\n",
      "[[20.498197525726127, 46.826565595432839], [11.491060849772161, 38.969787984383863]]\n",
      "Iteration [10 / 50]\n",
      "[[15.293033211597891, 38.672218755073942], [14.111369775104171, 39.338225344578234]]\n",
      "Iteration [11 / 50]\n",
      "[[10.374724037600867, 35.235753794419054], [19.867640359246479, 54.208714568067279]]\n",
      "Iteration [12 / 50]\n",
      "[[17.03134475168314, 39.567050381220625], [17.177517064549267, 55.649139497993488]]\n",
      "Iteration [13 / 50]\n",
      "[[9.0090838688444279, 34.558286164940462], [13.126197000677251, 51.287118125679314]]\n",
      "Iteration [14 / 50]\n",
      "[[7.8047522898900539, 35.124171288009109], [15.696423988563691, 50.359011860064768]]\n",
      "Iteration [15 / 50]\n",
      "[[10.934135219330237, 31.019165036574307], [16.679694658562461, 43.130301070853136]]\n",
      "Iteration [16 / 50]\n",
      "[[15.054662292786572, 37.631857862014058], [18.676372302567469, 43.881118832311699]]\n",
      "Iteration [17 / 50]\n",
      "[[26.643622933374367, 48.499358132890997], [22.714631160219945, 49.946352770117507]]\n",
      "Iteration [18 / 50]\n",
      "[[15.372727064411208, 39.409321884797656], [5.3191399301563749, 40.430189906795441]]\n",
      "Iteration [19 / 50]\n",
      "[[7.5010452748100604, 34.178369022722592], [21.454439345765874, 46.847654500382703]]\n",
      "Iteration [20 / 50]\n",
      "[[13.932392000529529, 29.906569238219749], [10.289959016071911, 43.329314890990872]]\n",
      "Iteration [21 / 50]\n",
      "[[13.267037464129174, 31.69446695053275], [16.041070326054314, 44.355569986744143]]\n",
      "Iteration [22 / 50]\n",
      "[[12.946831031433211, 36.786618532794705], [17.175250397272485, 37.881984067956971]]\n",
      "Iteration [23 / 50]\n",
      "[[17.924218198183549, 37.535968441815896], [9.7486367580095887, 33.967219733439016]]\n",
      "Iteration [24 / 50]\n",
      "[[16.385238407980701, 36.572419772355225], [21.925341536321426, 44.518167015880721]]\n",
      "Iteration [25 / 50]\n",
      "[[26.044707004060903, 46.327221341091011], [6.9338348426473253, 33.47749760155061]]\n",
      "Iteration [26 / 50]\n",
      "[[11.330182487342702, 28.811260180470221], [9.8308633598192152, 27.799641270351703]]\n",
      "Iteration [27 / 50]\n",
      "[[17.090628212293428, 39.316774090522713], [9.0173900850553732, 32.965476495694688]]\n",
      "Iteration [28 / 50]\n",
      "[[8.2262025156361638, 25.495995339719808], [17.046557115465891, 37.392559700819774]]\n",
      "Iteration [29 / 50]\n",
      "[[18.752755606455803, 33.123004962449642], [16.306967569036043, 38.622379843186764]]\n",
      "Iteration [30 / 50]\n",
      "[[8.386370801511541, 29.01327486886467], [26.403099485520357, 49.652320992828933]]\n",
      "Iteration [31 / 50]\n",
      "[[24.706468919597512, 42.547001174294962], [16.191671956862692, 33.244095108301565]]\n",
      "Iteration [32 / 50]\n",
      "[[13.703613009966121, 32.845541863670526], [13.960179983433846, 35.618319378606834]]\n",
      "Iteration [33 / 50]\n",
      "[[15.179847090187904, 30.333465558982745], [17.999971968556061, 35.095318633595191]]\n",
      "Iteration [34 / 50]\n",
      "[[20.346304511262034, 39.109039241941545], [18.068104248490773, 42.744265280927308]]\n",
      "Iteration [35 / 50]\n",
      "[[15.93057618850545, 31.184035825357455], [19.26283182939882, 38.132497034065416]]\n",
      "Iteration [36 / 50]\n",
      "[[16.029593123969114, 34.509399469059964], [11.078092394783832, 30.22393234943651]]\n",
      "Iteration [37 / 50]\n",
      "[[3.2636983493332501, 22.126061436183438], [19.336910243093914, 39.662906723636397]]\n",
      "Iteration [38 / 50]\n",
      "[[11.52526050277994, 26.082735699664756], [23.824520560685976, 45.059954374201233]]\n",
      "Iteration [39 / 50]\n",
      "[[21.847223341744876, 40.01464888166619], [20.688205243515505, 40.389889588323683]]\n",
      "Iteration [40 / 50]\n",
      "[[15.096166205930787, 35.348678044570782], [15.910401492246383, 31.087261428197362]]\n",
      "Iteration [41 / 50]\n",
      "[[18.627684054205414, 37.933974799723515], [21.359144712137066, 36.071374480458516]]\n",
      "Iteration [42 / 50]\n",
      "[[19.528097565848967, 33.31298251821466], [11.006520546989455, 32.079292073504867]]\n",
      "Iteration [43 / 50]\n",
      "[[18.261836303118091, 34.742170707531315], [14.248331522670176, 35.288788821029726]]\n",
      "Iteration [44 / 50]\n",
      "[[15.440065626064538, 31.625454995450795], [12.219013520150661, 29.8612351818173]]\n",
      "Iteration [45 / 50]\n",
      "[[9.2747393203981883, 26.971153010443359], [27.028293269239484, 44.582258006245652]]\n",
      "Iteration [46 / 50]\n",
      "[[13.772039770712528, 31.439961916911184], [19.88039274757751, 34.640591072876354]]\n",
      "Iteration [47 / 50]\n",
      "[[18.341105949184566, 35.585771798981163], [20.917628934246018, 36.398375387444837]]\n",
      "Iteration [48 / 50]\n",
      "[[16.557929333784863, 32.899727531209869], [19.679874662290068, 37.46460244575961]]\n",
      "Iteration [49 / 50]\n",
      "[[9.6504980608357531, 26.276396460030099], [14.294287734291203, 29.603077663911037]]\n",
      "Best: 1415.9968768427746\n"
     ]
    },
    {
     "name": "stderr",
     "output_type": "stream",
     "text": [
      "/opt/conda/lib/python3.5/site-packages/ipykernel/__main__.py:33: RuntimeWarning: invalid value encountered in sqrt\n"
     ]
    },
    {
     "ename": "IndexError",
     "evalue": "index 2 is out of bounds for axis 0 with size 1",
     "output_type": "error",
     "traceback": [
      "\u001b[0;31m---------------------------------------------------------------------------\u001b[0m",
      "\u001b[0;31mIndexError\u001b[0m                                Traceback (most recent call last)",
      "\u001b[0;32m<ipython-input-455-2faa69250362>\u001b[0m in \u001b[0;36m<module>\u001b[0;34m()\u001b[0m\n\u001b[0;32m----> 1\u001b[0;31m \u001b[0minterval_chaining\u001b[0m\u001b[0;34m(\u001b[0m\u001b[0mc\u001b[0m\u001b[0;34m=\u001b[0m\u001b[0;36m10\u001b[0m\u001b[0;34m,\u001b[0m \u001b[0mk\u001b[0m\u001b[0;34m=\u001b[0m\u001b[0;36m2\u001b[0m\u001b[0;34m,\u001b[0m \u001b[0md\u001b[0m\u001b[0;34m=\u001b[0m\u001b[0;36m10\u001b[0m\u001b[0;34m,\u001b[0m \u001b[0m_delta\u001b[0m\u001b[0;34m=\u001b[0m\u001b[0;36m0.05\u001b[0m\u001b[0;34m,\u001b[0m \u001b[0mT\u001b[0m\u001b[0;34m=\u001b[0m\u001b[0;36m50\u001b[0m\u001b[0;34m)\u001b[0m\u001b[0;34m\u001b[0m\u001b[0m\n\u001b[0m",
      "\u001b[0;32m<ipython-input-453-bf2ca14d5b91>\u001b[0m in \u001b[0;36minterval_chaining\u001b[0;34m(c, k, d, _delta, T)\u001b[0m\n\u001b[1;32m     39\u001b[0m     \u001b[0mbest\u001b[0m \u001b[0;34m=\u001b[0m \u001b[0;34m[\u001b[0m\u001b[0mtranspose\u001b[0m\u001b[0;34m(\u001b[0m\u001b[0mY\u001b[0m\u001b[0;34m)\u001b[0m\u001b[0;34m[\u001b[0m\u001b[0mi\u001b[0m\u001b[0;34m]\u001b[0m\u001b[0;34m.\u001b[0m\u001b[0mmax\u001b[0m\u001b[0;34m(\u001b[0m\u001b[0;34m)\u001b[0m \u001b[0;32mfor\u001b[0m \u001b[0mi\u001b[0m \u001b[0;32min\u001b[0m \u001b[0mrange\u001b[0m\u001b[0;34m(\u001b[0m\u001b[0;36m2\u001b[0m\u001b[0;34m,\u001b[0m \u001b[0mT\u001b[0m\u001b[0;34m)\u001b[0m\u001b[0;34m]\u001b[0m\u001b[0;34m\u001b[0m\u001b[0m\n\u001b[1;32m     40\u001b[0m     \u001b[0mprint\u001b[0m\u001b[0;34m(\u001b[0m\u001b[0;34m'Best: {0}'\u001b[0m\u001b[0;34m.\u001b[0m\u001b[0mformat\u001b[0m\u001b[0;34m(\u001b[0m\u001b[0msum\u001b[0m\u001b[0;34m(\u001b[0m\u001b[0mbest\u001b[0m\u001b[0;34m)\u001b[0m\u001b[0;34m)\u001b[0m\u001b[0;34m)\u001b[0m\u001b[0;34m\u001b[0m\u001b[0m\n\u001b[0;32m---> 41\u001b[0;31m     \u001b[0mprint\u001b[0m\u001b[0;34m(\u001b[0m\u001b[0;34m'Algorithm: {0}'\u001b[0m\u001b[0;34m.\u001b[0m\u001b[0mformat\u001b[0m\u001b[0;34m(\u001b[0m\u001b[0msum\u001b[0m\u001b[0;34m(\u001b[0m\u001b[0;34m[\u001b[0m\u001b[0mY\u001b[0m\u001b[0;34m[\u001b[0m\u001b[0mpicks\u001b[0m\u001b[0;34m[\u001b[0m\u001b[0mt\u001b[0m\u001b[0;34m-\u001b[0m\u001b[0;36m2\u001b[0m\u001b[0;34m]\u001b[0m\u001b[0;34m]\u001b[0m\u001b[0;34m[\u001b[0m\u001b[0mt\u001b[0m\u001b[0;34m]\u001b[0m \u001b[0;32mfor\u001b[0m \u001b[0mt\u001b[0m \u001b[0;32min\u001b[0m \u001b[0mrange\u001b[0m\u001b[0;34m(\u001b[0m\u001b[0;36m2\u001b[0m\u001b[0;34m,\u001b[0m \u001b[0mT\u001b[0m\u001b[0;34m)\u001b[0m\u001b[0;34m]\u001b[0m\u001b[0;34m)\u001b[0m\u001b[0;34m)\u001b[0m\u001b[0;34m)\u001b[0m\u001b[0;34m\u001b[0m\u001b[0m\n\u001b[0m\u001b[1;32m     42\u001b[0m     \u001b[0mprint\u001b[0m\u001b[0;34m(\u001b[0m\u001b[0mpicks\u001b[0m\u001b[0;34m)\u001b[0m\u001b[0;34m\u001b[0m\u001b[0m\n\u001b[1;32m     43\u001b[0m \u001b[0;34m\u001b[0m\u001b[0m\n",
      "\u001b[0;32m<ipython-input-453-bf2ca14d5b91>\u001b[0m in \u001b[0;36m<listcomp>\u001b[0;34m(.0)\u001b[0m\n\u001b[1;32m     39\u001b[0m     \u001b[0mbest\u001b[0m \u001b[0;34m=\u001b[0m \u001b[0;34m[\u001b[0m\u001b[0mtranspose\u001b[0m\u001b[0;34m(\u001b[0m\u001b[0mY\u001b[0m\u001b[0;34m)\u001b[0m\u001b[0;34m[\u001b[0m\u001b[0mi\u001b[0m\u001b[0;34m]\u001b[0m\u001b[0;34m.\u001b[0m\u001b[0mmax\u001b[0m\u001b[0;34m(\u001b[0m\u001b[0;34m)\u001b[0m \u001b[0;32mfor\u001b[0m \u001b[0mi\u001b[0m \u001b[0;32min\u001b[0m \u001b[0mrange\u001b[0m\u001b[0;34m(\u001b[0m\u001b[0;36m2\u001b[0m\u001b[0;34m,\u001b[0m \u001b[0mT\u001b[0m\u001b[0;34m)\u001b[0m\u001b[0;34m]\u001b[0m\u001b[0;34m\u001b[0m\u001b[0m\n\u001b[1;32m     40\u001b[0m     \u001b[0mprint\u001b[0m\u001b[0;34m(\u001b[0m\u001b[0;34m'Best: {0}'\u001b[0m\u001b[0;34m.\u001b[0m\u001b[0mformat\u001b[0m\u001b[0;34m(\u001b[0m\u001b[0msum\u001b[0m\u001b[0;34m(\u001b[0m\u001b[0mbest\u001b[0m\u001b[0;34m)\u001b[0m\u001b[0;34m)\u001b[0m\u001b[0;34m)\u001b[0m\u001b[0;34m\u001b[0m\u001b[0m\n\u001b[0;32m---> 41\u001b[0;31m     \u001b[0mprint\u001b[0m\u001b[0;34m(\u001b[0m\u001b[0;34m'Algorithm: {0}'\u001b[0m\u001b[0;34m.\u001b[0m\u001b[0mformat\u001b[0m\u001b[0;34m(\u001b[0m\u001b[0msum\u001b[0m\u001b[0;34m(\u001b[0m\u001b[0;34m[\u001b[0m\u001b[0mY\u001b[0m\u001b[0;34m[\u001b[0m\u001b[0mpicks\u001b[0m\u001b[0;34m[\u001b[0m\u001b[0mt\u001b[0m\u001b[0;34m-\u001b[0m\u001b[0;36m2\u001b[0m\u001b[0;34m]\u001b[0m\u001b[0;34m]\u001b[0m\u001b[0;34m[\u001b[0m\u001b[0mt\u001b[0m\u001b[0;34m]\u001b[0m \u001b[0;32mfor\u001b[0m \u001b[0mt\u001b[0m \u001b[0;32min\u001b[0m \u001b[0mrange\u001b[0m\u001b[0;34m(\u001b[0m\u001b[0;36m2\u001b[0m\u001b[0;34m,\u001b[0m \u001b[0mT\u001b[0m\u001b[0;34m)\u001b[0m\u001b[0;34m]\u001b[0m\u001b[0;34m)\u001b[0m\u001b[0;34m)\u001b[0m\u001b[0;34m)\u001b[0m\u001b[0;34m\u001b[0m\u001b[0m\n\u001b[0m\u001b[1;32m     42\u001b[0m     \u001b[0mprint\u001b[0m\u001b[0;34m(\u001b[0m\u001b[0mpicks\u001b[0m\u001b[0;34m)\u001b[0m\u001b[0;34m\u001b[0m\u001b[0m\n\u001b[1;32m     43\u001b[0m \u001b[0;34m\u001b[0m\u001b[0m\n",
      "\u001b[0;31mIndexError\u001b[0m: index 2 is out of bounds for axis 0 with size 1"
     ]
    }
   ],
   "source": [
    "interval_chaining(c=10, k=2, d=10, _delta=0.05, T=50)"
   ]
  },
  {
   "cell_type": "markdown",
   "metadata": {},
   "source": [
    "### Testing"
   ]
  },
  {
   "cell_type": "code",
   "execution_count": 359,
   "metadata": {
    "collapsed": false
   },
   "outputs": [],
   "source": [
    "tmp = np.array([[ 0.41617394,  0.54593447,  0.10577638,  0.66642839,  0.21852587,\n",
    "         0.12408503,  0.19740174,  0.16025822,  0.34112945,  0.79106745],\n",
    "       [ 0.09355889,  0.68958286,  0.77347255,  0.02070936,  0.07084052,\n",
    "         0.5991455 ,  0.45762994,  0.50857438,  0.17216335,  0.11820663]])"
   ]
  },
  {
   "cell_type": "code",
   "execution_count": 362,
   "metadata": {
    "collapsed": false
   },
   "outputs": [
    {
     "data": {
      "text/plain": [
       "array([[ 0.18195401,  0.29172031,  0.11638661,  0.27928767,  0.09757253,\n",
       "         0.10769634,  0.12496881,  0.11427695,  0.1580766 ,  0.34028094],\n",
       "       [ 0.29172031,  0.77356897,  0.59112039,  0.37810705,  0.16815121,\n",
       "         0.48090276,  0.42334218,  0.43819466,  0.30495522,  0.51338426],\n",
       "       [ 0.11638661,  0.59112039,  0.60944843,  0.0865105 ,  0.07790807,\n",
       "         0.47654786,  0.37484464,  0.41031986,  0.16924706,  0.17510583],\n",
       "       [ 0.27928767,  0.37810705,  0.0865105 ,  0.44455568,  0.14709891,\n",
       "         0.09510171,  0.14103135,  0.11733288,  0.23090374,  0.52963779],\n",
       "       [ 0.09757253,  0.16815121,  0.07790807,  0.14709891,  0.05277194,\n",
       "         0.06955957,  0.07555613,  0.07104824,  0.08674175,  0.18124252],\n",
       "       [ 0.10769634,  0.48090276,  0.47654786,  0.09510171,  0.06955957,\n",
       "         0.37437242,  0.29868152,  0.3245957 ,  0.14547995,  0.1689826 ],\n",
       "       [ 0.12496881,  0.42334218,  0.37484464,  0.14103135,  0.07555613,\n",
       "         0.29868152,  0.24839261,  0.26437411,  0.14612665,  0.21025298],\n",
       "       [ 0.11427695,  0.43819466,  0.41031986,  0.11733288,  0.07104824,\n",
       "         0.3245957 ,  0.26437411,  0.2843306 ,  0.14222667,  0.18689193],\n",
       "       [ 0.1580766 ,  0.30495522,  0.16924706,  0.23090374,  0.08674175,\n",
       "         0.14547995,  0.14612665,  0.14222667,  0.14600952,  0.29020725],\n",
       "       [ 0.34028094,  0.51338426,  0.17510583,  0.52963779,  0.18124252,\n",
       "         0.1689826 ,  0.21025298,  0.18689193,  0.29020725,  0.63976052]])"
      ]
     },
     "execution_count": 362,
     "metadata": {},
     "output_type": "execute_result"
    }
   ],
   "source": [
    "transpose(tmp).dot(tmp)"
   ]
  },
  {
   "cell_type": "code",
   "execution_count": 191,
   "metadata": {
    "collapsed": false
   },
   "outputs": [],
   "source": [
    "k = 5\n",
    "d = 10\n",
    "T = 50\n",
    "B = beta(k, d)\n",
    "X = np.random.uniform(size=(k, T, d))\n",
    "Y = np.array([X[i].dot(transpose(B[i])) for i in range(k)])"
   ]
  },
  {
   "cell_type": "code",
   "execution_count": 156,
   "metadata": {
    "collapsed": false
   },
   "outputs": [
    {
     "data": {
      "text/plain": [
       "0.54880669730882059"
      ]
     },
     "execution_count": 156,
     "metadata": {},
     "output_type": "execute_result"
    }
   ],
   "source": [
    "s2 = np.var(Y[0])\n",
    "s2"
   ]
  },
  {
   "cell_type": "code",
   "execution_count": 192,
   "metadata": {
    "collapsed": false
   },
   "outputs": [],
   "source": [
    "xTx = transpose(X[0][:10]).dot(X[0][:10])\n",
    "Bh = inv(xTx).dot(transpose(X[0][:10])).dot(Y[0][:10])"
   ]
  },
  {
   "cell_type": "code",
   "execution_count": 152,
   "metadata": {
    "collapsed": false
   },
   "outputs": [
    {
     "data": {
      "text/plain": [
       "2.9963963502844737"
      ]
     },
     "execution_count": 152,
     "metadata": {},
     "output_type": "execute_result"
    }
   ],
   "source": [
    "Bh.dot(X[0][9])"
   ]
  },
  {
   "cell_type": "code",
   "execution_count": 153,
   "metadata": {
    "collapsed": false
   },
   "outputs": [
    {
     "data": {
      "text/plain": [
       "2.9963963502845434"
      ]
     },
     "execution_count": 153,
     "metadata": {},
     "output_type": "execute_result"
    }
   ],
   "source": [
    "B[0].dot(X[0][9])"
   ]
  },
  {
   "cell_type": "code",
   "execution_count": 90,
   "metadata": {
    "collapsed": false
   },
   "outputs": [],
   "source": [
    "#X[0].dot(np.transpose(sample_b[0]))"
   ]
  },
  {
   "cell_type": "code",
   "execution_count": 280,
   "metadata": {
    "collapsed": false
   },
   "outputs": [
    {
     "data": {
      "text/plain": [
       "0.691813602964692"
      ]
     },
     "execution_count": 280,
     "metadata": {},
     "output_type": "execute_result"
    }
   ],
   "source": [
    "np.random.normal(0.5, 0.2)"
   ]
  },
  {
   "cell_type": "code",
   "execution_count": 438,
   "metadata": {
    "collapsed": false
   },
   "outputs": [
    {
     "data": {
      "text/plain": [
       "3"
      ]
     },
     "execution_count": 438,
     "metadata": {},
     "output_type": "execute_result"
    }
   ],
   "source": [
    "sum([1,2])"
   ]
  },
  {
   "cell_type": "code",
   "execution_count": null,
   "metadata": {
    "collapsed": true
   },
   "outputs": [],
   "source": []
  }
 ],
 "metadata": {
  "kernelspec": {
   "display_name": "Python 3",
   "language": "python",
   "name": "python3"
  },
  "language_info": {
   "codemirror_mode": {
    "name": "ipython",
    "version": 3
   },
   "file_extension": ".py",
   "mimetype": "text/x-python",
   "name": "python",
   "nbconvert_exporter": "python",
   "pygments_lexer": "ipython3",
   "version": "3.5.2"
  }
 },
 "nbformat": 4,
 "nbformat_minor": 2
}
