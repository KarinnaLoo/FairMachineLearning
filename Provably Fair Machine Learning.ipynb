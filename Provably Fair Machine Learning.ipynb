{
 "cells": [
  {
   "cell_type": "code",
   "execution_count": 368,
   "metadata": {
    "collapsed": true
   },
   "outputs": [],
   "source": [
    "import numpy as np\n",
    "from numpy import transpose\n",
    "from numpy.linalg import inv, det\n",
    "from scipy.stats import norm"
   ]
  },
  {
   "cell_type": "code",
   "execution_count": 34,
   "metadata": {
    "collapsed": false
   },
   "outputs": [],
   "source": [
    "def eta(T):\n",
    "    \"\"\" Generates the cutoff probabilities for exploration rounds in interval chaining. \"\"\"\n",
    "    return np.array([pow(t, -1/3) for t in range(1,T+1)])"
   ]
  },
  {
   "cell_type": "code",
   "execution_count": 257,
   "metadata": {
    "collapsed": false
   },
   "outputs": [],
   "source": [
    "def beta(k, d, c):\n",
    "    \"\"\" Generates the scaled down feature weights for a true model. \"\"\"\n",
    "    return np.random.uniform(0, c+1, size=(k, d))"
   ]
  },
  {
   "cell_type": "code",
   "execution_count": 380,
   "metadata": {
    "collapsed": false
   },
   "outputs": [],
   "source": [
    "def interval_chaining(c, k, d, _delta, T):\n",
    "    \"\"\"\n",
    "    Simulates T rounds of interval chaining.\n",
    "    \"\"\"\n",
    "    \n",
    "    X = np.random.uniform(0, 1, size=(k, T, d))  # 3-axis ndarray\n",
    "#     X = np.random.normal(0.5, 0.5, (k, T, d))\n",
    "#     print(X)\n",
    "    _eta = eta(T)                             # exploration cutoff probabilities\n",
    "    B = beta(k, d, c)                         # true parameters. B[i]: params for arm i\n",
    "    Y = np.array([X[i].dot(transpose(B[i])) for i in range(k)])  # not sure if there's a cleaner way to do this\n",
    "    for t in range(2, T):\n",
    "        print('Iteration [{0} / {1}]'.format(t, T))\n",
    "        r = np.random.randint(k)\n",
    "        if r <= _eta[t]:\n",
    "            # Play uniformly at random from [1, k].\n",
    "            pass\n",
    "        intervals = []\n",
    "        for i in range(k):\n",
    "            # Compute beta hat.\n",
    "#             print(X[i][:t+1])\n",
    "            _Xti = X[i][:t+1]\n",
    "            _XtiT = transpose(_Xti)\n",
    "            try:\n",
    "                _XTX = inv(_XtiT.dot(_Xti))\n",
    "            except:\n",
    "                print('Encountered singular matrix. Ignoring.')\n",
    "                continue\n",
    "            _Yti = Y[i][:t+1]\n",
    "            Bh_t_i = _XTX.dot(_XtiT).dot(_Yti)  # Compute OLS estimators.\n",
    "            yh_t_i = Bh_t_i.dot(X[i][t])\n",
    "            _s2 = np.var(Y[i][:t+1])\n",
    "            w_t_i = norm.ppf(_delta/(2*T*k), loc=0, scale=np.sqrt(_s2 * X[i][t].dot(_XTX).dot(transpose(X[i][t]))))\n",
    "            intervals.append((yh_t_i - w_t_i, yh_t_i + w_t_i))\n",
    "            break\n",
    "        print(intervals)\n",
    "            "
   ]
  },
  {
   "cell_type": "code",
   "execution_count": 378,
   "metadata": {
    "collapsed": false
   },
   "outputs": [
    {
     "name": "stdout",
     "output_type": "stream",
     "text": [
      "Iteration [2 / 50]\n",
      "[(-28.762538967767128, -41.724274348254355)]\n",
      "Iteration [3 / 50]\n",
      "[(146.15931245164546, 82.052896820538592)]\n",
      "Iteration [4 / 50]\n",
      "[(296.09339639739898, 243.10707107118745)]\n",
      "Iteration [5 / 50]\n",
      "[(-55.300685062646679, -80.029389110018073)]\n",
      "Iteration [6 / 50]\n",
      "[(-356.97041229152768, -381.96371732979429)]\n",
      "Iteration [7 / 50]\n",
      "[(79.744326630096353, 38.046043759432123)]\n",
      "Iteration [8 / 50]\n",
      "[(74.407966489567059, 40.653922655772007)]\n",
      "Iteration [9 / 50]\n",
      "[(43.100719596164367, 11.644969338448183)]\n",
      "Iteration [10 / 50]\n",
      "[(42.292204914044135, 13.880230873355819)]\n",
      "Iteration [11 / 50]\n",
      "[(42.912492991699651, 17.409998774178437)]\n",
      "Iteration [12 / 50]\n",
      "[(64.255809717741442, 22.693744082936611)]\n",
      "Iteration [13 / 50]\n",
      "[(40.585174528871129, 6.431052579568636)]\n",
      "Iteration [14 / 50]\n",
      "[(36.609838332199061, 4.9485840714444844)]\n",
      "Iteration [15 / 50]\n",
      "[(53.327286811207188, 23.258250259791144)]\n",
      "Iteration [16 / 50]\n",
      "[(44.257195559740154, 12.106987571964236)]\n",
      "Iteration [17 / 50]\n",
      "[(51.289946395387709, 19.607910280202951)]\n",
      "Iteration [18 / 50]\n",
      "[(70.047639193921228, 24.254198349635971)]\n",
      "Iteration [19 / 50]\n",
      "[(47.791317798205966, 10.165688905741369)]\n",
      "Iteration [20 / 50]\n",
      "[(51.201798997525685, 12.545486969579155)]\n",
      "Iteration [21 / 50]\n",
      "[(53.097682743065711, 19.842725083609686)]\n",
      "Iteration [22 / 50]\n",
      "[(45.453235855408664, 15.461036986548709)]\n",
      "Iteration [23 / 50]\n",
      "[(48.508975144724694, 17.57297091789011)]\n",
      "Iteration [24 / 50]\n",
      "[(41.935458369377272, 16.967337180602936)]\n",
      "Iteration [25 / 50]\n",
      "[(46.524863315945382, 10.576254094939177)]\n",
      "Iteration [26 / 50]\n",
      "[(41.399743592742645, 9.431968325257559)]\n",
      "Iteration [27 / 50]\n",
      "[(40.81646598446212, 18.844303263398672)]\n",
      "Iteration [28 / 50]\n",
      "[(33.639221052742712, 10.711829056335526)]\n",
      "Iteration [29 / 50]\n",
      "[(49.735797115780706, 21.807010015590286)]\n",
      "Iteration [30 / 50]\n",
      "[(36.311367253741075, 11.986894097110392)]\n",
      "Iteration [31 / 50]\n",
      "[(41.337094158568213, 21.021225232796837)]\n",
      "Iteration [32 / 50]\n",
      "[(51.850160370292066, 25.940436736336203)]\n",
      "Iteration [33 / 50]\n",
      "[(37.020108182387453, 12.546925160845822)]\n",
      "Iteration [34 / 50]\n",
      "[(50.398069549510247, 29.139522703604619)]\n",
      "Iteration [35 / 50]\n",
      "[(40.667653440047914, 20.095842500622553)]\n",
      "Iteration [36 / 50]\n",
      "[(31.916950812872912, 8.0577764200713471)]\n",
      "Iteration [37 / 50]\n",
      "[(39.651081497153527, 16.364557219389138)]\n",
      "Iteration [38 / 50]\n",
      "[(36.995117993819896, 10.827542285842002)]\n",
      "Iteration [39 / 50]\n",
      "[(41.713743790248188, 23.146319404393765)]\n",
      "Iteration [40 / 50]\n",
      "[(28.845377004782499, 9.5020780490158483)]\n",
      "Iteration [41 / 50]\n",
      "[(58.468080394769814, 35.384219836489564)]\n",
      "Iteration [42 / 50]\n",
      "[(31.834530984478839, 12.595677465855159)]\n",
      "Iteration [43 / 50]\n",
      "[(42.224557769420556, 16.30734716112298)]\n",
      "Iteration [44 / 50]\n",
      "[(33.345120406233534, 13.492308856955379)]\n",
      "Iteration [45 / 50]\n",
      "[(39.916581061563235, 18.825850869974893)]\n",
      "Iteration [46 / 50]\n",
      "[(22.263440978467635, 7.8622869143957583)]\n",
      "Iteration [47 / 50]\n",
      "[(40.296755992602165, 18.26790072620495)]\n",
      "Iteration [48 / 50]\n",
      "[(46.717115619064415, 21.062371278349687)]\n",
      "Iteration [49 / 50]\n",
      "[(46.151905906413418, 21.372228601575031)]\n"
     ]
    }
   ],
   "source": [
    "interval_chaining(c=10, k=2, d=10, _delta=0.05, T=50)"
   ]
  },
  {
   "cell_type": "markdown",
   "metadata": {},
   "source": [
    "### Testing"
   ]
  },
  {
   "cell_type": "code",
   "execution_count": 359,
   "metadata": {
    "collapsed": false
   },
   "outputs": [],
   "source": [
    "tmp = np.array([[ 0.41617394,  0.54593447,  0.10577638,  0.66642839,  0.21852587,\n",
    "         0.12408503,  0.19740174,  0.16025822,  0.34112945,  0.79106745],\n",
    "       [ 0.09355889,  0.68958286,  0.77347255,  0.02070936,  0.07084052,\n",
    "         0.5991455 ,  0.45762994,  0.50857438,  0.17216335,  0.11820663]])"
   ]
  },
  {
   "cell_type": "code",
   "execution_count": 362,
   "metadata": {
    "collapsed": false
   },
   "outputs": [
    {
     "data": {
      "text/plain": [
       "array([[ 0.18195401,  0.29172031,  0.11638661,  0.27928767,  0.09757253,\n",
       "         0.10769634,  0.12496881,  0.11427695,  0.1580766 ,  0.34028094],\n",
       "       [ 0.29172031,  0.77356897,  0.59112039,  0.37810705,  0.16815121,\n",
       "         0.48090276,  0.42334218,  0.43819466,  0.30495522,  0.51338426],\n",
       "       [ 0.11638661,  0.59112039,  0.60944843,  0.0865105 ,  0.07790807,\n",
       "         0.47654786,  0.37484464,  0.41031986,  0.16924706,  0.17510583],\n",
       "       [ 0.27928767,  0.37810705,  0.0865105 ,  0.44455568,  0.14709891,\n",
       "         0.09510171,  0.14103135,  0.11733288,  0.23090374,  0.52963779],\n",
       "       [ 0.09757253,  0.16815121,  0.07790807,  0.14709891,  0.05277194,\n",
       "         0.06955957,  0.07555613,  0.07104824,  0.08674175,  0.18124252],\n",
       "       [ 0.10769634,  0.48090276,  0.47654786,  0.09510171,  0.06955957,\n",
       "         0.37437242,  0.29868152,  0.3245957 ,  0.14547995,  0.1689826 ],\n",
       "       [ 0.12496881,  0.42334218,  0.37484464,  0.14103135,  0.07555613,\n",
       "         0.29868152,  0.24839261,  0.26437411,  0.14612665,  0.21025298],\n",
       "       [ 0.11427695,  0.43819466,  0.41031986,  0.11733288,  0.07104824,\n",
       "         0.3245957 ,  0.26437411,  0.2843306 ,  0.14222667,  0.18689193],\n",
       "       [ 0.1580766 ,  0.30495522,  0.16924706,  0.23090374,  0.08674175,\n",
       "         0.14547995,  0.14612665,  0.14222667,  0.14600952,  0.29020725],\n",
       "       [ 0.34028094,  0.51338426,  0.17510583,  0.52963779,  0.18124252,\n",
       "         0.1689826 ,  0.21025298,  0.18689193,  0.29020725,  0.63976052]])"
      ]
     },
     "execution_count": 362,
     "metadata": {},
     "output_type": "execute_result"
    }
   ],
   "source": [
    "transpose(tmp).dot(tmp)"
   ]
  },
  {
   "cell_type": "code",
   "execution_count": 191,
   "metadata": {
    "collapsed": false
   },
   "outputs": [],
   "source": [
    "k = 5\n",
    "d = 10\n",
    "T = 50\n",
    "B = beta(k, d)\n",
    "X = np.random.uniform(size=(k, T, d))\n",
    "Y = np.array([X[i].dot(transpose(B[i])) for i in range(k)])"
   ]
  },
  {
   "cell_type": "code",
   "execution_count": 156,
   "metadata": {
    "collapsed": false
   },
   "outputs": [
    {
     "data": {
      "text/plain": [
       "0.54880669730882059"
      ]
     },
     "execution_count": 156,
     "metadata": {},
     "output_type": "execute_result"
    }
   ],
   "source": [
    "s2 = np.var(Y[0])\n",
    "s2"
   ]
  },
  {
   "cell_type": "code",
   "execution_count": 192,
   "metadata": {
    "collapsed": false
   },
   "outputs": [],
   "source": [
    "xTx = transpose(X[0][:10]).dot(X[0][:10])\n",
    "Bh = inv(xTx).dot(transpose(X[0][:10])).dot(Y[0][:10])"
   ]
  },
  {
   "cell_type": "code",
   "execution_count": 152,
   "metadata": {
    "collapsed": false
   },
   "outputs": [
    {
     "data": {
      "text/plain": [
       "2.9963963502844737"
      ]
     },
     "execution_count": 152,
     "metadata": {},
     "output_type": "execute_result"
    }
   ],
   "source": [
    "Bh.dot(X[0][9])"
   ]
  },
  {
   "cell_type": "code",
   "execution_count": 153,
   "metadata": {
    "collapsed": false
   },
   "outputs": [
    {
     "data": {
      "text/plain": [
       "2.9963963502845434"
      ]
     },
     "execution_count": 153,
     "metadata": {},
     "output_type": "execute_result"
    }
   ],
   "source": [
    "B[0].dot(X[0][9])"
   ]
  },
  {
   "cell_type": "code",
   "execution_count": 90,
   "metadata": {
    "collapsed": false
   },
   "outputs": [],
   "source": [
    "#X[0].dot(np.transpose(sample_b[0]))"
   ]
  },
  {
   "cell_type": "code",
   "execution_count": 280,
   "metadata": {
    "collapsed": false
   },
   "outputs": [
    {
     "data": {
      "text/plain": [
       "0.691813602964692"
      ]
     },
     "execution_count": 280,
     "metadata": {},
     "output_type": "execute_result"
    }
   ],
   "source": [
    "np.random.normal(0.5, 0.2)"
   ]
  },
  {
   "cell_type": "code",
   "execution_count": null,
   "metadata": {
    "collapsed": true
   },
   "outputs": [],
   "source": []
  }
 ],
 "metadata": {
  "kernelspec": {
   "display_name": "Python 3",
   "language": "python",
   "name": "python3"
  },
  "language_info": {
   "codemirror_mode": {
    "name": "ipython",
    "version": 3
   },
   "file_extension": ".py",
   "mimetype": "text/x-python",
   "name": "python",
   "nbconvert_exporter": "python",
   "pygments_lexer": "ipython3",
   "version": "3.5.2"
  }
 },
 "nbformat": 4,
 "nbformat_minor": 2
}
