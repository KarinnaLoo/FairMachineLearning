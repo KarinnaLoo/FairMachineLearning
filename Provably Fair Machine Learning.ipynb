{
 "cells": [
  {
   "cell_type": "code",
   "execution_count": 368,
   "metadata": {
    "collapsed": true
   },
   "outputs": [],
   "source": [
    "import numpy as np\n",
    "from numpy import transpose\n",
    "from numpy.linalg import inv, det\n",
    "from scipy.stats import norm"
   ]
  },
  {
   "cell_type": "code",
   "execution_count": 34,
   "metadata": {
    "collapsed": false
   },
   "outputs": [],
   "source": [
    "def eta(T):\n",
    "    \"\"\" Generates the cutoff probabilities for exploration rounds in interval chaining. \"\"\"\n",
    "    return np.array([pow(t, -1/3) for t in range(1,T+1)])"
   ]
  },
  {
   "cell_type": "code",
   "execution_count": 257,
   "metadata": {
    "collapsed": false
   },
   "outputs": [],
   "source": [
    "def beta(k, d, c):\n",
    "    \"\"\" Generates the scaled down feature weights for a true model. \"\"\"\n",
    "    return np.random.uniform(0, c+1, size=(k, d))"
   ]
  },
  {
   "cell_type": "code",
   "execution_count": 476,
   "metadata": {
    "collapsed": false
   },
   "outputs": [],
   "source": [
    "def top_interval(c, k, d, _delta, T):\n",
    "    \"\"\"\n",
    "    Simulates T rounds of interval chaining.\n",
    "    \"\"\"\n",
    "    \n",
    "    X = np.random.uniform(0, 1, size=(k, T, d))  # 3-axis ndarray\n",
    "#     X = np.random.normal(0.5, 0.5, (k, T, d))\n",
    "    _eta = eta(T)                             # exploration cutoff probabilities\n",
    "    B = beta(k, d, c)                         # true parameters. B[i]: params for arm i\n",
    "    Y = np.array([X[i].dot(transpose(B[i])) for i in range(k)])  # not sure if there's a cleaner way to do this\n",
    "    picks = []\n",
    "    for t in range(2, T):\n",
    "        print('Iteration [{0} / {1}]'.format(t, T))\n",
    "        r = np.random.randint(k)\n",
    "        if r <= _eta[t]:\n",
    "            # Play uniformly at random from [1, k].\n",
    "            pass\n",
    "        intervals = []\n",
    "        for i in range(k):\n",
    "            # Compute beta hat.\n",
    "#             print(X[i][:t+1])\n",
    "            _Xti = X[i][:t+1]\n",
    "            _XtiT = transpose(_Xti)\n",
    "            try:\n",
    "                _XTX = inv(_XtiT.dot(_Xti))\n",
    "            except:\n",
    "                print('Encountered singular matrix. Ignoring.')\n",
    "                continue\n",
    "            _Yti = Y[i][:t+1]\n",
    "            Bh_t_i = _XTX.dot(_XtiT).dot(_Yti)  # Compute OLS estimators.\n",
    "            yh_t_i = Bh_t_i.dot(X[i][t])\n",
    "            _s2 = np.var(Y[i][:t+1])\n",
    "            w_t_i = norm.ppf(1 - _delta/(2*T*k), loc=0, scale=np.sqrt(_s2 * X[i][t].dot(_XTX).dot(transpose(X[i][t]))))\n",
    "            intervals.append([yh_t_i - w_t_i, yh_t_i + w_t_i])\n",
    "        # Pick the agent with the largest upper bound for now.\n",
    "        picks.append(np.argmax(np.array(intervals)[:,1]) if intervals else np.random.randint(0,2))\n",
    "        print(intervals)\n",
    "    # Compute sum of best picks over each iteration.\n",
    "    best = [transpose(Y)[i].max() for i in range(2, T)]\n",
    "    performance = [Y[picks[t-2]][t] for t in range(2, T)]\n",
    "    print('Best: {0}'.format(sum(best)))\n",
    "    print('Algorithm: {0}'.format(sum(performance)))\n",
    "    print('Regret: {0}'.format(sum(best) - sum(performance)))\n",
    "#     print(picks)\n",
    "            "
   ]
  },
  {
   "cell_type": "code",
   "execution_count": 477,
   "metadata": {
    "collapsed": false
   },
   "outputs": [
    {
     "name": "stdout",
     "output_type": "stream",
     "text": [
      "Iteration [2 / 50]\n",
      "[[-273.77749766131728, -260.69463085659117], [nan, nan]]\n",
      "Iteration [3 / 50]\n",
      "[[-9.1184559195333019, -8.1993090938037394], [nan, nan]]\n",
      "Iteration [4 / 50]\n",
      "[[17.895504456357216, 38.815629189004071], [28.992998335962966, 46.609735542961744]]\n",
      "Iteration [5 / 50]\n",
      "[[6.6150716171259365, 33.223852519122893], [153.79339795152183, 169.52168451327216]]\n",
      "Iteration [6 / 50]\n",
      "[[90.825602006507467, 105.82853545962027], [nan, nan]]\n",
      "Iteration [7 / 50]\n",
      "[[5.4577644259494651, 27.125614487296694], [3.7124958021835699, 19.343552676418803]]\n",
      "Iteration [8 / 50]\n",
      "[[0.46299706596572321, 20.659670031550867], [-37.889180313558654, -16.100844378370621]]\n",
      "Iteration [9 / 50]\n",
      "[[8.5329641708795432, 28.054335259642123], [0.18400134554250158, 24.731896980816895]]\n",
      "Iteration [10 / 50]\n",
      "[[13.988265135711311, 37.948511883176273], [-0.9889976815858752, 23.29058820744422]]\n",
      "Iteration [11 / 50]\n",
      "[[7.7749206931117172, 30.640099084229711], [4.9301479834214099, 27.703686155219774]]\n",
      "Iteration [12 / 50]\n",
      "[[10.902833267706029, 31.486894834185222], [12.701118914125539, 36.850525342787826]]\n",
      "Iteration [13 / 50]\n",
      "[[1.6019663542396056, 23.145807409605304], [1.4283489989536857, 27.516252422898361]]\n",
      "Iteration [14 / 50]\n",
      "[[0.57961755035748475, 22.198230510280965], [2.2306074286579793, 23.013450323700219]]\n",
      "Iteration [15 / 50]\n",
      "[[1.2380602985676958, 24.747816136187243], [2.0021038755303966, 25.355839992825587]]\n",
      "Iteration [16 / 50]\n",
      "[[8.3089630027308754, 31.807880950563153], [7.2618787337451245, 27.143929888227358]]\n",
      "Iteration [17 / 50]\n",
      "[[9.8900435351924383, 33.747730082135369], [5.3147617564078589, 20.419829589221049]]\n",
      "Iteration [18 / 50]\n",
      "[[8.9014368268919259, 29.195624916866379], [6.3626420999585367, 24.840358705860147]]\n",
      "Iteration [19 / 50]\n",
      "[[9.1724744788194297, 30.66145899985375], [8.943942374928044, 25.148344282369202]]\n",
      "Iteration [20 / 50]\n",
      "[[9.2537176006233572, 28.545439250066803], [5.1088315123485586, 26.178548599547927]]\n",
      "Iteration [21 / 50]\n",
      "[[3.5316811231419223, 20.52966656927228], [1.0361232163923457, 19.915121954630656]]\n",
      "Iteration [22 / 50]\n",
      "[[10.232187774352704, 26.473916078966539], [4.6195944085189335, 24.751533110610836]]\n",
      "Iteration [23 / 50]\n",
      "[[6.3060463533435573, 22.915573873329773], [10.660515900542727, 25.358858246880182]]\n",
      "Iteration [24 / 50]\n",
      "[[3.7488287845150339, 19.561085716422447], [5.1579443935134366, 20.851906267313499]]\n",
      "Iteration [25 / 50]\n",
      "[[14.501826140786166, 28.426429076470853], [10.277865218637102, 21.97181843749815]]\n",
      "Iteration [26 / 50]\n",
      "[[8.5908937327008701, 23.961629485011045], [11.691536253782584, 27.656373387658423]]\n",
      "Iteration [27 / 50]\n",
      "[[4.0194877443305144, 18.554860137692732], [6.5471766749231826, 23.108539098569338]]\n",
      "Iteration [28 / 50]\n",
      "[[0.42757745530424973, 15.764430996055701], [11.883192674321853, 26.500296624640171]]\n",
      "Iteration [29 / 50]\n",
      "[[0.82887075140245425, 14.751626090225678], [11.084330144971624, 26.458669084786436]]\n",
      "Iteration [30 / 50]\n",
      "[[6.3466327809858516, 25.850700562389186], [8.307610116806881, 20.082209699398305]]\n",
      "Iteration [31 / 50]\n",
      "[[9.5379280812167195, 26.201279266156035], [10.446411776188006, 23.46865679008728]]\n",
      "Iteration [32 / 50]\n",
      "[[5.9162434571900437, 23.734893203187937], [10.18486647421406, 21.59075527277291]]\n",
      "Iteration [33 / 50]\n",
      "[[7.7382107693349607, 25.323351122025329], [7.3348605720288473, 18.308360110650998]]\n",
      "Iteration [34 / 50]\n",
      "[[3.6796217009725538, 21.982690056193647], [5.9249585039250299, 19.086131225664467]]\n",
      "Iteration [35 / 50]\n",
      "[[7.315297155480895, 24.461105524649923], [7.6274093880183838, 20.658693842395962]]\n",
      "Iteration [36 / 50]\n",
      "[[10.118001283633898, 23.806456714937742], [4.6091758902289923, 17.931034898690974]]\n",
      "Iteration [37 / 50]\n",
      "[[10.725723369697755, 26.012578613136199], [10.483835016165186, 20.364061836762666]]\n",
      "Iteration [38 / 50]\n",
      "[[0.86863854784117756, 15.73413357235272], [9.0016981200801993, 22.323255715803345]]\n",
      "Iteration [39 / 50]\n",
      "[[9.5992951346733726, 23.950983425868632], [8.1833424700759529, 18.928962965774883]]\n",
      "Iteration [40 / 50]\n",
      "[[7.9229823599961042, 20.390039569263191], [10.156589366095304, 18.24434078539058]]\n",
      "Iteration [41 / 50]\n",
      "[[12.017087888391927, 27.379092074954691], [14.242837563164144, 24.360059108641984]]\n",
      "Iteration [42 / 50]\n",
      "[[7.582150718231853, 21.546223193360234], [8.1275832065545384, 19.014263302993484]]\n",
      "Iteration [43 / 50]\n",
      "[[13.788458512305304, 25.807092008893235], [7.5338413773797006, 16.020170145370493]]\n",
      "Iteration [44 / 50]\n",
      "[[5.4012265337070913, 18.20550535599477], [11.897224013191497, 20.265973163659993]]\n",
      "Iteration [45 / 50]\n",
      "[[8.0711835052828391, 20.830028896898789], [11.904529445040748, 21.962824942408293]]\n",
      "Iteration [46 / 50]\n",
      "[[8.2727366960702184, 24.495135550869506], [4.6772916265224529, 13.832060944005264]]\n",
      "Iteration [47 / 50]\n",
      "[[9.5948053425355901, 18.769667282084555], [12.563866026823188, 21.551827158882244]]\n",
      "Iteration [48 / 50]\n",
      "[[11.066068433819074, 25.700509436378418], [6.7079323221200244, 18.240288029243274]]\n",
      "Iteration [49 / 50]\n",
      "[[8.9150152432022765, 20.627986517382826], [11.04221306500029, 20.443208620842391]]\n",
      "Best: 839.3436496014928\n",
      "Algorithm: 816.7374306807156\n",
      "Regret: 22.60621892077711\n"
     ]
    },
    {
     "name": "stderr",
     "output_type": "stream",
     "text": [
      "/opt/conda/lib/python3.5/site-packages/ipykernel/__main__.py:33: RuntimeWarning: invalid value encountered in sqrt\n"
     ]
    }
   ],
   "source": [
    "top_interval(c=10, k=2, d=10, _delta=0.05, T=50)"
   ]
  },
  {
   "cell_type": "markdown",
   "metadata": {},
   "source": [
    "### Testing"
   ]
  },
  {
   "cell_type": "code",
   "execution_count": 359,
   "metadata": {
    "collapsed": false
   },
   "outputs": [],
   "source": [
    "tmp = np.array([[ 0.41617394,  0.54593447,  0.10577638,  0.66642839,  0.21852587,\n",
    "         0.12408503,  0.19740174,  0.16025822,  0.34112945,  0.79106745],\n",
    "       [ 0.09355889,  0.68958286,  0.77347255,  0.02070936,  0.07084052,\n",
    "         0.5991455 ,  0.45762994,  0.50857438,  0.17216335,  0.11820663]])"
   ]
  },
  {
   "cell_type": "code",
   "execution_count": 362,
   "metadata": {
    "collapsed": false
   },
   "outputs": [
    {
     "data": {
      "text/plain": [
       "array([[ 0.18195401,  0.29172031,  0.11638661,  0.27928767,  0.09757253,\n",
       "         0.10769634,  0.12496881,  0.11427695,  0.1580766 ,  0.34028094],\n",
       "       [ 0.29172031,  0.77356897,  0.59112039,  0.37810705,  0.16815121,\n",
       "         0.48090276,  0.42334218,  0.43819466,  0.30495522,  0.51338426],\n",
       "       [ 0.11638661,  0.59112039,  0.60944843,  0.0865105 ,  0.07790807,\n",
       "         0.47654786,  0.37484464,  0.41031986,  0.16924706,  0.17510583],\n",
       "       [ 0.27928767,  0.37810705,  0.0865105 ,  0.44455568,  0.14709891,\n",
       "         0.09510171,  0.14103135,  0.11733288,  0.23090374,  0.52963779],\n",
       "       [ 0.09757253,  0.16815121,  0.07790807,  0.14709891,  0.05277194,\n",
       "         0.06955957,  0.07555613,  0.07104824,  0.08674175,  0.18124252],\n",
       "       [ 0.10769634,  0.48090276,  0.47654786,  0.09510171,  0.06955957,\n",
       "         0.37437242,  0.29868152,  0.3245957 ,  0.14547995,  0.1689826 ],\n",
       "       [ 0.12496881,  0.42334218,  0.37484464,  0.14103135,  0.07555613,\n",
       "         0.29868152,  0.24839261,  0.26437411,  0.14612665,  0.21025298],\n",
       "       [ 0.11427695,  0.43819466,  0.41031986,  0.11733288,  0.07104824,\n",
       "         0.3245957 ,  0.26437411,  0.2843306 ,  0.14222667,  0.18689193],\n",
       "       [ 0.1580766 ,  0.30495522,  0.16924706,  0.23090374,  0.08674175,\n",
       "         0.14547995,  0.14612665,  0.14222667,  0.14600952,  0.29020725],\n",
       "       [ 0.34028094,  0.51338426,  0.17510583,  0.52963779,  0.18124252,\n",
       "         0.1689826 ,  0.21025298,  0.18689193,  0.29020725,  0.63976052]])"
      ]
     },
     "execution_count": 362,
     "metadata": {},
     "output_type": "execute_result"
    }
   ],
   "source": [
    "transpose(tmp).dot(tmp)"
   ]
  },
  {
   "cell_type": "code",
   "execution_count": 191,
   "metadata": {
    "collapsed": false
   },
   "outputs": [],
   "source": [
    "k = 5\n",
    "d = 10\n",
    "T = 50\n",
    "B = beta(k, d)\n",
    "X = np.random.uniform(size=(k, T, d))\n",
    "Y = np.array([X[i].dot(transpose(B[i])) for i in range(k)])"
   ]
  },
  {
   "cell_type": "code",
   "execution_count": 156,
   "metadata": {
    "collapsed": false
   },
   "outputs": [
    {
     "data": {
      "text/plain": [
       "0.54880669730882059"
      ]
     },
     "execution_count": 156,
     "metadata": {},
     "output_type": "execute_result"
    }
   ],
   "source": [
    "s2 = np.var(Y[0])\n",
    "s2"
   ]
  },
  {
   "cell_type": "code",
   "execution_count": 192,
   "metadata": {
    "collapsed": false
   },
   "outputs": [],
   "source": [
    "xTx = transpose(X[0][:10]).dot(X[0][:10])\n",
    "Bh = inv(xTx).dot(transpose(X[0][:10])).dot(Y[0][:10])"
   ]
  },
  {
   "cell_type": "code",
   "execution_count": 152,
   "metadata": {
    "collapsed": false
   },
   "outputs": [
    {
     "data": {
      "text/plain": [
       "2.9963963502844737"
      ]
     },
     "execution_count": 152,
     "metadata": {},
     "output_type": "execute_result"
    }
   ],
   "source": [
    "Bh.dot(X[0][9])"
   ]
  },
  {
   "cell_type": "code",
   "execution_count": 153,
   "metadata": {
    "collapsed": false
   },
   "outputs": [
    {
     "data": {
      "text/plain": [
       "2.9963963502845434"
      ]
     },
     "execution_count": 153,
     "metadata": {},
     "output_type": "execute_result"
    }
   ],
   "source": [
    "B[0].dot(X[0][9])"
   ]
  },
  {
   "cell_type": "code",
   "execution_count": 90,
   "metadata": {
    "collapsed": false
   },
   "outputs": [],
   "source": [
    "#X[0].dot(np.transpose(sample_b[0]))"
   ]
  },
  {
   "cell_type": "code",
   "execution_count": 280,
   "metadata": {
    "collapsed": false
   },
   "outputs": [
    {
     "data": {
      "text/plain": [
       "0.691813602964692"
      ]
     },
     "execution_count": 280,
     "metadata": {},
     "output_type": "execute_result"
    }
   ],
   "source": [
    "np.random.normal(0.5, 0.2)"
   ]
  },
  {
   "cell_type": "code",
   "execution_count": 438,
   "metadata": {
    "collapsed": false
   },
   "outputs": [
    {
     "data": {
      "text/plain": [
       "3"
      ]
     },
     "execution_count": 438,
     "metadata": {},
     "output_type": "execute_result"
    }
   ],
   "source": [
    "sum([1,2])"
   ]
  },
  {
   "cell_type": "code",
   "execution_count": null,
   "metadata": {
    "collapsed": true
   },
   "outputs": [],
   "source": []
  }
 ],
 "metadata": {
  "kernelspec": {
   "display_name": "Python 3",
   "language": "python",
   "name": "python3"
  },
  "language_info": {
   "codemirror_mode": {
    "name": "ipython",
    "version": 3
   },
   "file_extension": ".py",
   "mimetype": "text/x-python",
   "name": "python",
   "nbconvert_exporter": "python",
   "pygments_lexer": "ipython3",
   "version": "3.5.2"
  }
 },
 "nbformat": 4,
 "nbformat_minor": 2
}
