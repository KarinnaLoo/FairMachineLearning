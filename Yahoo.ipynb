{
 "cells": [
  {
   "cell_type": "code",
   "execution_count": 10,
   "metadata": {
    "collapsed": true
   },
   "outputs": [],
   "source": [
    "import pandas as pd\n",
    "import numpy as np\n",
    "import sqlite3\n",
    "import time\n",
    "\n",
    "data_dir = 'R6/'\n",
    "engine = sqlite3.connect('yahoo')"
   ]
  },
  {
   "cell_type": "code",
   "execution_count": null,
   "metadata": {
    "collapsed": false
   },
   "outputs": [],
   "source": [
    "# Unbiased Offline Evaluation of Contextual-bandit-based News Article Recommendation Algorithms \n",
    "# https://arxiv.org/pdf/1003.5956.pdf\n",
    "# Dataset: https://webscope.sandbox.yahoo.com/catalog.php?datatype=r&did=49\n",
    "\n",
    "t0 = time.time()\n",
    "\n",
    "articles_df = pd.DataFrame(columns=['2', '3', '4', '5', '6', '1'])\n",
    "\n",
    "ITEM_LIMIT = sys.maxsize\n",
    "num_iters = 0\n",
    "\n",
    "with open(data_dir + 'clicks_1.txt') as f:\n",
    "    for line in f:\n",
    "        num_iters += 1\n",
    "        if num_iters > ITEM_LIMIT:\n",
    "            break\n",
    "        parts = line.strip().split('|')\n",
    "        unix_timestamp, disp_article_id, clicked = parts[0].split()\n",
    "#         print('Unix Timestamp: {0}, Displayed Article Id: {1}, Clicked: {2}'.format(unix_timestamp, disp_article_id, clicked))\n",
    "        for i in range(2, len(parts)):\n",
    "            # Extract article vector information.\n",
    "            article_info = parts[i].split()\n",
    "            article_id = article_info[0]\n",
    "            if article_id in articles_df.index:\n",
    "                continue\n",
    "            article_info_parts = list(map(lambda x : x.split(':')[1], article_info[1:]))\n",
    "            article_info = dict(zip(articles_df.columns, article_info_parts))\n",
    "            articles_df.loc[article_id] = pd.Series(article_info)\n",
    "#         break \n",
    "\n",
    "t1 = time.time()\n",
    "print('Finished processing {0} items in {1} seconds.'.format(num_iters-1, t1 - t0))\n",
    "        \n",
    "print(articles_df.shape)\n",
    "articles_df"
   ]
  },
  {
   "cell_type": "code",
   "execution_count": 15,
   "metadata": {
    "collapsed": true
   },
   "outputs": [],
   "source": [
    "articles_df.to_sql('articles', engine, if_exists='replace')"
   ]
  },
  {
   "cell_type": "code",
   "execution_count": null,
   "metadata": {
    "collapsed": true
   },
   "outputs": [],
   "source": []
  }
 ],
 "metadata": {
  "kernelspec": {
   "display_name": "Python 3",
   "language": "python",
   "name": "python3"
  },
  "language_info": {
   "codemirror_mode": {
    "name": "ipython",
    "version": 3
   },
   "file_extension": ".py",
   "mimetype": "text/x-python",
   "name": "python",
   "nbconvert_exporter": "python",
   "pygments_lexer": "ipython3",
   "version": "3.5.2"
  }
 },
 "nbformat": 4,
 "nbformat_minor": 2
}
