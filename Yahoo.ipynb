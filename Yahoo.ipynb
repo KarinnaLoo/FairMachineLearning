{
 "cells": [
  {
   "cell_type": "code",
   "execution_count": 30,
   "metadata": {
    "collapsed": true
   },
   "outputs": [],
   "source": [
    "import pandas as pd\n",
    "import numpy as np\n",
    "import sqlite3\n",
    "\n",
    "data_dir = 'R6/'\n",
    "engine = sqlite3.connect('yahoo')"
   ]
  },
  {
   "cell_type": "code",
   "execution_count": 92,
   "metadata": {
    "collapsed": false
   },
   "outputs": [],
   "source": [
    "# Unbiased Offline Evaluation of Contextual-bandit-based News Article Recommendation Algorithms \n",
    "# https://arxiv.org/pdf/1003.5956.pdf\n",
    "\n",
    "f = open(data_dir + 'clicks_1.txt')"
   ]
  },
  {
   "cell_type": "code",
   "execution_count": 48,
   "metadata": {
    "collapsed": false
   },
   "outputs": [],
   "source": [
    "line = f.readline().strip()\n",
    "parts = line.split('|')"
   ]
  },
  {
   "cell_type": "code",
   "execution_count": 49,
   "metadata": {
    "collapsed": false
   },
   "outputs": [
    {
     "name": "stdout",
     "output_type": "stream",
     "text": [
      "Unix Timestamp: 1241160900, Displayed Article Id: 109484, Clicked: 0\n"
     ]
    }
   ],
   "source": [
    "unix_timestamp, disp_article_id, clicked = parts[0].split()\n",
    "print('Unix Timestamp: {0}, Displayed Article Id: {1}, Clicked: {2}'.format(unix_timestamp, disp_article_id, clicked))"
   ]
  },
  {
   "cell_type": "code",
   "execution_count": 119,
   "metadata": {
    "collapsed": false
   },
   "outputs": [
    {
     "data": {
      "text/html": [
       "<div>\n",
       "<table border=\"1\" class=\"dataframe\">\n",
       "  <thead>\n",
       "    <tr style=\"text-align: right;\">\n",
       "      <th></th>\n",
       "      <th>2</th>\n",
       "      <th>3</th>\n",
       "      <th>4</th>\n",
       "      <th>5</th>\n",
       "      <th>6</th>\n",
       "      <th>1</th>\n",
       "    </tr>\n",
       "  </thead>\n",
       "  <tbody>\n",
       "    <tr>\n",
       "      <th>109498</th>\n",
       "      <td>0.306008</td>\n",
       "      <td>0.000450</td>\n",
       "      <td>0.077048</td>\n",
       "      <td>0.230439</td>\n",
       "      <td>0.386055</td>\n",
       "      <td>1.000000</td>\n",
       "    </tr>\n",
       "    <tr>\n",
       "      <th>109509</th>\n",
       "      <td>0.306008</td>\n",
       "      <td>0.000450</td>\n",
       "      <td>0.077048</td>\n",
       "      <td>0.230439</td>\n",
       "      <td>0.386055</td>\n",
       "      <td>1.000000</td>\n",
       "    </tr>\n",
       "    <tr>\n",
       "      <th>109508</th>\n",
       "      <td>0.264355</td>\n",
       "      <td>0.000012</td>\n",
       "      <td>0.037393</td>\n",
       "      <td>0.420649</td>\n",
       "      <td>0.277591</td>\n",
       "      <td>1.000000</td>\n",
       "    </tr>\n",
       "    <tr>\n",
       "      <th>109473</th>\n",
       "      <td>0.295442</td>\n",
       "      <td>0.000014</td>\n",
       "      <td>0.135191</td>\n",
       "      <td>0.292304</td>\n",
       "      <td>0.277050</td>\n",
       "      <td>1.000000</td>\n",
       "    </tr>\n",
       "    <tr>\n",
       "      <th>109503</th>\n",
       "      <td>0.306008</td>\n",
       "      <td>0.000450</td>\n",
       "      <td>0.077048</td>\n",
       "      <td>0.230439</td>\n",
       "      <td>0.386055</td>\n",
       "      <td>1.000000</td>\n",
       "    </tr>\n",
       "    <tr>\n",
       "      <th>109502</th>\n",
       "      <td>0.277121</td>\n",
       "      <td>0.000131</td>\n",
       "      <td>0.038153</td>\n",
       "      <td>0.335835</td>\n",
       "      <td>0.348760</td>\n",
       "      <td>1.000000</td>\n",
       "    </tr>\n",
       "    <tr>\n",
       "      <th>109501</th>\n",
       "      <td>0.249086</td>\n",
       "      <td>0.001009</td>\n",
       "      <td>0.514682</td>\n",
       "      <td>0.067732</td>\n",
       "      <td>0.167491</td>\n",
       "      <td>1.000000</td>\n",
       "    </tr>\n",
       "    <tr>\n",
       "      <th>109492</th>\n",
       "      <td>0.331830</td>\n",
       "      <td>0.000022</td>\n",
       "      <td>0.019904</td>\n",
       "      <td>0.440390</td>\n",
       "      <td>0.207855</td>\n",
       "      <td>1.000000</td>\n",
       "    </tr>\n",
       "    <tr>\n",
       "      <th>109495</th>\n",
       "      <td>0.313277</td>\n",
       "      <td>0.000125</td>\n",
       "      <td>0.018413</td>\n",
       "      <td>0.410555</td>\n",
       "      <td>0.257630</td>\n",
       "      <td>1.000000</td>\n",
       "    </tr>\n",
       "    <tr>\n",
       "      <th>109494</th>\n",
       "      <td>0.306008</td>\n",
       "      <td>0.000450</td>\n",
       "      <td>0.077048</td>\n",
       "      <td>0.230439</td>\n",
       "      <td>0.386055</td>\n",
       "      <td>1.000000</td>\n",
       "    </tr>\n",
       "    <tr>\n",
       "      <th>109484</th>\n",
       "      <td>0.438513</td>\n",
       "      <td>0.000003</td>\n",
       "      <td>0.030714</td>\n",
       "      <td>0.384494</td>\n",
       "      <td>0.146277</td>\n",
       "      <td>1.000000</td>\n",
       "    </tr>\n",
       "    <tr>\n",
       "      <th>109506</th>\n",
       "      <td>0.264355</td>\n",
       "      <td>0.000012</td>\n",
       "      <td>0.037393</td>\n",
       "      <td>0.420649</td>\n",
       "      <td>0.277591</td>\n",
       "      <td>1.000000</td>\n",
       "    </tr>\n",
       "    <tr>\n",
       "      <th>109510</th>\n",
       "      <td>0.287909</td>\n",
       "      <td>0.000025</td>\n",
       "      <td>0.008983</td>\n",
       "      <td>0.511333</td>\n",
       "      <td>0.191751</td>\n",
       "      <td>1.000000</td>\n",
       "    </tr>\n",
       "    <tr>\n",
       "      <th>109514</th>\n",
       "      <td>0.297750</td>\n",
       "      <td>0.000013</td>\n",
       "      <td>0.011603</td>\n",
       "      <td>0.512182</td>\n",
       "      <td>0.178452</td>\n",
       "      <td>1.000000</td>\n",
       "    </tr>\n",
       "    <tr>\n",
       "      <th>109505</th>\n",
       "      <td>0.375829</td>\n",
       "      <td>0.000025</td>\n",
       "      <td>0.033041</td>\n",
       "      <td>0.349637</td>\n",
       "      <td>0.241468</td>\n",
       "      <td>1.000000</td>\n",
       "    </tr>\n",
       "    <tr>\n",
       "      <th>109515</th>\n",
       "      <td>0.281649</td>\n",
       "      <td>0.000173</td>\n",
       "      <td>0.195994</td>\n",
       "      <td>0.151003</td>\n",
       "      <td>0.371182</td>\n",
       "      <td>1.000000</td>\n",
       "    </tr>\n",
       "    <tr>\n",
       "      <th>109512</th>\n",
       "      <td>0.297322</td>\n",
       "      <td>0.000025</td>\n",
       "      <td>0.034951</td>\n",
       "      <td>0.413566</td>\n",
       "      <td>0.254137</td>\n",
       "      <td>1.000000</td>\n",
       "    </tr>\n",
       "    <tr>\n",
       "      <th>109513</th>\n",
       "      <td>0.211406</td>\n",
       "      <td>0.000036</td>\n",
       "      <td>0.002773</td>\n",
       "      <td>0.569886</td>\n",
       "      <td>0.215900</td>\n",
       "      <td>1.000000</td>\n",
       "    </tr>\n",
       "    <tr>\n",
       "      <th>109511</th>\n",
       "      <td>0.381149</td>\n",
       "      <td>0.000129</td>\n",
       "      <td>0.060038</td>\n",
       "      <td>0.269129</td>\n",
       "      <td>0.289554</td>\n",
       "      <td>1.000000</td>\n",
       "    </tr>\n",
       "    <tr>\n",
       "      <th>109453</th>\n",
       "      <td>0.421669</td>\n",
       "      <td>0.000011</td>\n",
       "      <td>0.010902</td>\n",
       "      <td>0.309585</td>\n",
       "      <td>0.257833</td>\n",
       "      <td>1.000000</td>\n",
       "    </tr>\n",
       "  </tbody>\n",
       "</table>\n",
       "</div>"
      ],
      "text/plain": [
       "               2         3         4         5         6         1\n",
       "109498  0.306008  0.000450  0.077048  0.230439  0.386055  1.000000\n",
       "109509  0.306008  0.000450  0.077048  0.230439  0.386055  1.000000\n",
       "109508  0.264355  0.000012  0.037393  0.420649  0.277591  1.000000\n",
       "109473  0.295442  0.000014  0.135191  0.292304  0.277050  1.000000\n",
       "109503  0.306008  0.000450  0.077048  0.230439  0.386055  1.000000\n",
       "109502  0.277121  0.000131  0.038153  0.335835  0.348760  1.000000\n",
       "109501  0.249086  0.001009  0.514682  0.067732  0.167491  1.000000\n",
       "109492  0.331830  0.000022  0.019904  0.440390  0.207855  1.000000\n",
       "109495  0.313277  0.000125  0.018413  0.410555  0.257630  1.000000\n",
       "109494  0.306008  0.000450  0.077048  0.230439  0.386055  1.000000\n",
       "109484  0.438513  0.000003  0.030714  0.384494  0.146277  1.000000\n",
       "109506  0.264355  0.000012  0.037393  0.420649  0.277591  1.000000\n",
       "109510  0.287909  0.000025  0.008983  0.511333  0.191751  1.000000\n",
       "109514  0.297750  0.000013  0.011603  0.512182  0.178452  1.000000\n",
       "109505  0.375829  0.000025  0.033041  0.349637  0.241468  1.000000\n",
       "109515  0.281649  0.000173  0.195994  0.151003  0.371182  1.000000\n",
       "109512  0.297322  0.000025  0.034951  0.413566  0.254137  1.000000\n",
       "109513  0.211406  0.000036  0.002773  0.569886  0.215900  1.000000\n",
       "109511  0.381149  0.000129  0.060038  0.269129  0.289554  1.000000\n",
       "109453  0.421669  0.000011  0.010902  0.309585  0.257833  1.000000"
      ]
     },
     "execution_count": 119,
     "metadata": {},
     "output_type": "execute_result"
    }
   ],
   "source": [
    "articles_df = pd.DataFrame(columns=['2', '3', '4', '5', '6', '1'])\n",
    "\n",
    "for i in range(2, len(parts)):\n",
    "    # Extract article vector information.\n",
    "    article_info = parts[i].split()\n",
    "    article_id = article_info[0]\n",
    "    article_info = list(map(lambda x : x.split(':')[1], article_info[1:]))\n",
    "    article_info = dict(zip(articles_df.columns, article_info))\n",
    "    articles_df.loc[article_id] = pd.Series(article_info)\n",
    "    \n",
    "articles_df\n",
    "# articles_df.drop_duplicates()"
   ]
  },
  {
   "cell_type": "code",
   "execution_count": 114,
   "metadata": {
    "collapsed": false
   },
   "outputs": [
    {
     "data": {
      "text/plain": [
       "1     1.000000\n",
       "2     0.306008\n",
       "3     0.000450\n",
       "4     0.077048\n",
       "5     0.230439\n",
       "6     0.386055\n",
       "id      109498\n",
       "dtype: object"
      ]
     },
     "execution_count": 114,
     "metadata": {},
     "output_type": "execute_result"
    }
   ],
   "source": [
    "pd.Series(article_info,)"
   ]
  },
  {
   "cell_type": "code",
   "execution_count": null,
   "metadata": {
    "collapsed": true
   },
   "outputs": [],
   "source": []
  }
 ],
 "metadata": {
  "kernelspec": {
   "display_name": "Python 3",
   "language": "python",
   "name": "python3"
  },
  "language_info": {
   "codemirror_mode": {
    "name": "ipython",
    "version": 3
   },
   "file_extension": ".py",
   "mimetype": "text/x-python",
   "name": "python",
   "nbconvert_exporter": "python",
   "pygments_lexer": "ipython3",
   "version": "3.5.2"
  }
 },
 "nbformat": 4,
 "nbformat_minor": 2
}
