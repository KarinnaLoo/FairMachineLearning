{
 "cells": [
  {
   "cell_type": "code",
   "execution_count": 2,
   "metadata": {
    "collapsed": true
   },
   "outputs": [],
   "source": [
    "import pandas as pd\n",
    "import numpy as np\n",
    "import sqlite3\n",
    "\n",
    "engine = sqlite3.connect('yahoo')"
   ]
  },
  {
   "cell_type": "code",
   "execution_count": 99,
   "metadata": {
    "collapsed": true
   },
   "outputs": [],
   "source": [
    "click_cols = ['time', 'user_1', 'user_2', 'user_3', 'user_4', 'user_5', 'user_6', 'displayed', 'clicked']"
   ]
  },
  {
   "cell_type": "code",
   "execution_count": 115,
   "metadata": {
    "collapsed": false
   },
   "outputs": [],
   "source": [
    "articles_df = pd.read_sql_query('SELECT * FROM articles',con=engine).set_index('index')\n",
    "clicks_df = pd.read_sql_query('''SELECT * FROM clicks WHERE (ABS(CAST((RANDOM()) as int)) % 100) < 5''', con=engine)\n",
    "clicks_df[click_cols] = clicks_df[click_cols].apply(pd.to_numeric, ) # Temporary workaround, this should be done before sql"
   ]
  },
  {
   "cell_type": "code",
   "execution_count": 130,
   "metadata": {
    "collapsed": false
   },
   "outputs": [],
   "source": [
    "#articles_df.dtypes"
   ]
  },
  {
   "cell_type": "code",
   "execution_count": 117,
   "metadata": {
    "collapsed": false
   },
   "outputs": [
    {
     "data": {
      "text/html": [
       "<div>\n",
       "<table border=\"1\" class=\"dataframe\">\n",
       "  <thead>\n",
       "    <tr style=\"text-align: right;\">\n",
       "      <th></th>\n",
       "      <th>2</th>\n",
       "      <th>3</th>\n",
       "      <th>4</th>\n",
       "      <th>5</th>\n",
       "      <th>6</th>\n",
       "      <th>1</th>\n",
       "    </tr>\n",
       "    <tr>\n",
       "      <th>index</th>\n",
       "      <th></th>\n",
       "      <th></th>\n",
       "      <th></th>\n",
       "      <th></th>\n",
       "      <th></th>\n",
       "      <th></th>\n",
       "    </tr>\n",
       "  </thead>\n",
       "  <tbody>\n",
       "    <tr>\n",
       "      <th>109498</th>\n",
       "      <td>0.306008</td>\n",
       "      <td>0.000450</td>\n",
       "      <td>0.077048</td>\n",
       "      <td>0.230439</td>\n",
       "      <td>0.386055</td>\n",
       "      <td>1.0</td>\n",
       "    </tr>\n",
       "    <tr>\n",
       "      <th>109509</th>\n",
       "      <td>0.306008</td>\n",
       "      <td>0.000450</td>\n",
       "      <td>0.077048</td>\n",
       "      <td>0.230439</td>\n",
       "      <td>0.386055</td>\n",
       "      <td>1.0</td>\n",
       "    </tr>\n",
       "    <tr>\n",
       "      <th>109508</th>\n",
       "      <td>0.264355</td>\n",
       "      <td>0.000012</td>\n",
       "      <td>0.037393</td>\n",
       "      <td>0.420649</td>\n",
       "      <td>0.277591</td>\n",
       "      <td>1.0</td>\n",
       "    </tr>\n",
       "    <tr>\n",
       "      <th>109473</th>\n",
       "      <td>0.295442</td>\n",
       "      <td>0.000014</td>\n",
       "      <td>0.135191</td>\n",
       "      <td>0.292304</td>\n",
       "      <td>0.277050</td>\n",
       "      <td>1.0</td>\n",
       "    </tr>\n",
       "    <tr>\n",
       "      <th>109503</th>\n",
       "      <td>0.306008</td>\n",
       "      <td>0.000450</td>\n",
       "      <td>0.077048</td>\n",
       "      <td>0.230439</td>\n",
       "      <td>0.386055</td>\n",
       "      <td>1.0</td>\n",
       "    </tr>\n",
       "  </tbody>\n",
       "</table>\n",
       "</div>"
      ],
      "text/plain": [
       "               2         3         4         5         6    1\n",
       "index                                                        \n",
       "109498  0.306008  0.000450  0.077048  0.230439  0.386055  1.0\n",
       "109509  0.306008  0.000450  0.077048  0.230439  0.386055  1.0\n",
       "109508  0.264355  0.000012  0.037393  0.420649  0.277591  1.0\n",
       "109473  0.295442  0.000014  0.135191  0.292304  0.277050  1.0\n",
       "109503  0.306008  0.000450  0.077048  0.230439  0.386055  1.0"
      ]
     },
     "execution_count": 117,
     "metadata": {},
     "output_type": "execute_result"
    }
   ],
   "source": [
    "articles_df.head()"
   ]
  },
  {
   "cell_type": "code",
   "execution_count": 118,
   "metadata": {
    "collapsed": false
   },
   "outputs": [
    {
     "data": {
      "text/plain": [
       "(234140, 11)"
      ]
     },
     "execution_count": 118,
     "metadata": {},
     "output_type": "execute_result"
    }
   ],
   "source": [
    "clicks_df.shape"
   ]
  },
  {
   "cell_type": "code",
   "execution_count": 121,
   "metadata": {
    "collapsed": false
   },
   "outputs": [],
   "source": [
    "#clicks_df.dtypes"
   ]
  },
  {
   "cell_type": "code",
   "execution_count": 120,
   "metadata": {
    "collapsed": false,
    "scrolled": false
   },
   "outputs": [
    {
     "data": {
      "text/html": [
       "<div>\n",
       "<table border=\"1\" class=\"dataframe\">\n",
       "  <thead>\n",
       "    <tr style=\"text-align: right;\">\n",
       "      <th></th>\n",
       "      <th>index</th>\n",
       "      <th>time</th>\n",
       "      <th>user_1</th>\n",
       "      <th>user_2</th>\n",
       "      <th>user_3</th>\n",
       "      <th>user_4</th>\n",
       "      <th>user_5</th>\n",
       "      <th>user_6</th>\n",
       "      <th>article_pool</th>\n",
       "      <th>displayed</th>\n",
       "      <th>clicked</th>\n",
       "    </tr>\n",
       "  </thead>\n",
       "  <tbody>\n",
       "    <tr>\n",
       "      <th>0</th>\n",
       "      <td>24</td>\n",
       "      <td>1241160900</td>\n",
       "      <td>0.008325</td>\n",
       "      <td>0.079014</td>\n",
       "      <td>0.001413</td>\n",
       "      <td>0.911076</td>\n",
       "      <td>0.000172</td>\n",
       "      <td>1.0</td>\n",
       "      <td>['109498', '109509', '109508', '109473', '1095...</td>\n",
       "      <td>109510</td>\n",
       "      <td>0</td>\n",
       "    </tr>\n",
       "    <tr>\n",
       "      <th>1</th>\n",
       "      <td>59</td>\n",
       "      <td>1241160900</td>\n",
       "      <td>0.003677</td>\n",
       "      <td>0.000000</td>\n",
       "      <td>0.986935</td>\n",
       "      <td>0.008073</td>\n",
       "      <td>0.001315</td>\n",
       "      <td>1.0</td>\n",
       "      <td>['109498', '109509', '109508', '109473', '1095...</td>\n",
       "      <td>109503</td>\n",
       "      <td>0</td>\n",
       "    </tr>\n",
       "    <tr>\n",
       "      <th>2</th>\n",
       "      <td>65</td>\n",
       "      <td>1241160900</td>\n",
       "      <td>0.042438</td>\n",
       "      <td>0.150965</td>\n",
       "      <td>0.005879</td>\n",
       "      <td>0.800057</td>\n",
       "      <td>0.000661</td>\n",
       "      <td>1.0</td>\n",
       "      <td>['109498', '109509', '109508', '109473', '1095...</td>\n",
       "      <td>109495</td>\n",
       "      <td>0</td>\n",
       "    </tr>\n",
       "    <tr>\n",
       "      <th>3</th>\n",
       "      <td>85</td>\n",
       "      <td>1241160900</td>\n",
       "      <td>0.553029</td>\n",
       "      <td>0.045877</td>\n",
       "      <td>0.094129</td>\n",
       "      <td>0.291508</td>\n",
       "      <td>0.015457</td>\n",
       "      <td>1.0</td>\n",
       "      <td>['109498', '109509', '109508', '109473', '1095...</td>\n",
       "      <td>109498</td>\n",
       "      <td>0</td>\n",
       "    </tr>\n",
       "    <tr>\n",
       "      <th>4</th>\n",
       "      <td>114</td>\n",
       "      <td>1241160900</td>\n",
       "      <td>0.553029</td>\n",
       "      <td>0.045877</td>\n",
       "      <td>0.094129</td>\n",
       "      <td>0.291508</td>\n",
       "      <td>0.015457</td>\n",
       "      <td>1.0</td>\n",
       "      <td>['109498', '109509', '109508', '109473', '1095...</td>\n",
       "      <td>109506</td>\n",
       "      <td>0</td>\n",
       "    </tr>\n",
       "  </tbody>\n",
       "</table>\n",
       "</div>"
      ],
      "text/plain": [
       "   index        time    user_1    user_2    user_3    user_4    user_5  \\\n",
       "0     24  1241160900  0.008325  0.079014  0.001413  0.911076  0.000172   \n",
       "1     59  1241160900  0.003677  0.000000  0.986935  0.008073  0.001315   \n",
       "2     65  1241160900  0.042438  0.150965  0.005879  0.800057  0.000661   \n",
       "3     85  1241160900  0.553029  0.045877  0.094129  0.291508  0.015457   \n",
       "4    114  1241160900  0.553029  0.045877  0.094129  0.291508  0.015457   \n",
       "\n",
       "   user_6                                       article_pool  displayed  \\\n",
       "0     1.0  ['109498', '109509', '109508', '109473', '1095...     109510   \n",
       "1     1.0  ['109498', '109509', '109508', '109473', '1095...     109503   \n",
       "2     1.0  ['109498', '109509', '109508', '109473', '1095...     109495   \n",
       "3     1.0  ['109498', '109509', '109508', '109473', '1095...     109498   \n",
       "4     1.0  ['109498', '109509', '109508', '109473', '1095...     109506   \n",
       "\n",
       "   clicked  \n",
       "0        0  \n",
       "1        0  \n",
       "2        0  \n",
       "3        0  \n",
       "4        0  "
      ]
     },
     "execution_count": 120,
     "metadata": {},
     "output_type": "execute_result"
    }
   ],
   "source": [
    " clicks_df.head()"
   ]
  },
  {
   "cell_type": "code",
   "execution_count": 1,
   "metadata": {
    "collapsed": true
   },
   "outputs": [],
   "source": [
    "\"\"\"\n",
    "Evaluation Protocol\n",
    "===================\n",
    "Let σ be an input stream of logged events to be used for the simulation,\n",
    "where an event consists of a tuple consisting of the user vector, \n",
    "20 article vectors (context vectors), the displayed vector (selected arm), \n",
    "and the result (observed reward).\n",
    "Step through each element s sampled from the stream.\n",
    "Let t denote the current time-step in the algorithm and h_{t-1} prior history.\n",
    "If given h_{t-1} and the current context, the algorithm picks the same vector\n",
    "as the selected arm - retain the event and add it to the history. Otherwise,\n",
    "keep processing items.\n",
    "\"\"\""
   ]
  },
  {
   "cell_type": "code",
   "execution_count": 177,
   "metadata": {
    "collapsed": false
   },
   "outputs": [
    {
     "name": "stdout",
     "output_type": "stream",
     "text": [
      "(3, 20, 12)\n",
      "[[  6.933e-310   6.933e-310   1.076e-315   1.076e-315   4.941e-324\n",
      "    1.076e-315   4.941e-324   1.076e-315   1.235e-322   6.933e-310\n",
      "    9.881e-324   1.076e-315]\n",
      " [  3.060e-001   4.500e-004   7.705e-002   2.304e-001   3.861e-001\n",
      "    1.000e+000   8.325e-003   7.901e-002   1.413e-003   9.111e-001\n",
      "    1.720e-004   1.000e+000]\n",
      " [  3.060e-001   4.500e-004   7.705e-002   2.304e-001   3.861e-001\n",
      "    1.000e+000   3.677e-003   0.000e+000   9.869e-001   8.073e-003\n",
      "    1.315e-003   1.000e+000]]\n"
     ]
    }
   ],
   "source": [
    "\"\"\" Playing around with how to convert Yahoo data to good format for evaluation. \"\"\"\n",
    "\n",
    "from numpy import transpose\n",
    "from numpy.linalg import pinv, det\n",
    "\n",
    "np.set_printoptions(precision=3)\n",
    "\n",
    "user_feat_mat = clicks_df.as_matrix(['user_1', 'user_2', 'user_3', 'user_4', 'user_5', 'user_6'])\n",
    "X = np.empty((1, 20, 12))\n",
    "init_iter = 2\n",
    "for i in range(init_iter):\n",
    "    # Extract all article vectors for first log item.\n",
    "    article_vecs = np.array([articles_df.ix[x].values for x in eval(clicks_df.ix[i]['article_pool'])])\n",
    "    # For each of the article row vectors, add a copy of the user features.\n",
    "    tmp = np.append(article_vecs, values=np.tile(user_feat_mat[i], (len(article_vecs), 1)), axis=1)\n",
    "    tmp = tmp.reshape((1, 20, 12)) # (timestep, arm, feature)\n",
    "    X = np.append(X, tmp, axis=0)  # Feature vector of 6 article features and 6 user features\n",
    "print(X.shape)\n",
    "\n",
    "_Xti = X[:init_iter+1,0]\n",
    "print(_Xti)\n",
    "_XtiT = transpose(_Xti)\n",
    "_XTX = pinv(_XtiT.dot(_Xti))\n",
    "_Yti = Y[:t+1,i]"
   ]
  },
  {
   "cell_type": "code",
   "execution_count": null,
   "metadata": {
    "collapsed": true
   },
   "outputs": [],
   "source": [
    "def top_interval(X, Y, k, d, _delta, T):\n",
    "    \"\"\"\n",
    "    Simulates T rounds of TopInterval for k.\n",
    "    \n",
    "    :param X: a 3-axis (T, k, d) ndarray of d-dimensional context vectors for each\n",
    "              time-step and arm\n",
    "    :param Y: a T x k ndarray of reward function output for each context vector\n",
    "    :param k: the number of arms\n",
    "    :param d: the number of features\n",
    "    :param _delta: confidence parameter\n",
    "    :param T: the number of iterations\n",
    "    \"\"\"\n",
    "    _eta = eta(T)                               # exploration cutoff probabilities\n",
    "    picks = []\n",
    "    for t in range(T):\n",
    "        print('Iteration [{0} / {1}]'.format(t, T))"
   ]
  }
 ],
 "metadata": {
  "kernelspec": {
   "display_name": "Python 3",
   "language": "python",
   "name": "python3"
  },
  "language_info": {
   "codemirror_mode": {
    "name": "ipython",
    "version": 3
   },
   "file_extension": ".py",
   "mimetype": "text/x-python",
   "name": "python",
   "nbconvert_exporter": "python",
   "pygments_lexer": "ipython3",
   "version": "3.5.2"
  }
 },
 "nbformat": 4,
 "nbformat_minor": 2
}
