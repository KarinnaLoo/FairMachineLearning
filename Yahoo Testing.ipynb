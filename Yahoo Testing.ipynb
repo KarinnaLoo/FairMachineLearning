{
 "cells": [
  {
   "cell_type": "code",
   "execution_count": 1,
   "metadata": {
    "collapsed": true,
    "scrolled": true
   },
   "outputs": [],
   "source": [
    "import pandas as pd\n",
    "import numpy as np\n",
    "import sqlite3\n",
    "import math\n",
    "\n",
    "from numpy import transpose\n",
    "from numpy.linalg import inv,pinv, det\n",
    "from scipy.stats import norm\n",
    "from scipy.special import expit as logistic\n",
    "from sklearn.linear_model import LogisticRegression as LR\n",
    "from sklearn.cluster import KMeans\n",
    "\n",
    "engine = sqlite3.connect('yahoo')\n",
    "np.set_printoptions(precision=3)\n",
    "click_cols = ['time', 'user_1', 'user_2', 'user_3', 'user_4', 'user_5', 'user_6', 'displayed', 'clicked']"
   ]
  },
  {
   "cell_type": "code",
   "execution_count": 2,
   "metadata": {
    "scrolled": true
   },
   "outputs": [
    {
     "name": "stdout",
     "output_type": "stream",
     "text": [
      "(30039, 11)\n",
      "(28638, 11)\n"
     ]
    }
   ],
   "source": [
    "articles_df = pd.read_sql_query('SELECT * FROM articles',con=engine).set_index('index')\n",
    "# Positive examples are very sparse in the click logs data.\n",
    "# This presents a significant problem when trying to train our models.\n",
    "# As such, we necessarily select a sufficient number of logs with\n",
    "# positive and negative results. (An argument can be made towards the\n",
    "# correctness of this approach by recognizing that a logged event is\n",
    "# only included in the learning algorithm's history if it would have\n",
    "# picked the corresponding arm to begin with.)\n",
    "clicks_df_pos = pd.read_sql_query('''\n",
    "    SELECT * FROM clicks WHERE (ABS(CAST((RANDOM()) as int)) % 100) < 50 AND length(article_pool) < 210 AND clicked = 1\n",
    "''', con=engine)\n",
    "clicks_df_neg = pd.read_sql_query('''\n",
    "    SELECT * FROM clicks WHERE (ABS(CAST((RANDOM()) as int)) % 100) < 2 AND length(article_pool) < 210 AND clicked = 0\n",
    "''', con=engine)\n",
    "\n",
    "print('Selected {0} positive and {1} negative examples.'.format(clicks_df_pos.shape[0], clicks_df_neg.shape[0]))\n",
    "\n",
    "clicks_df = pd.concat([clicks_df_pos, clicks_df_neg])\n",
    "clicks_df[click_cols] = clicks_df[click_cols].apply(pd.to_numeric, ) # Temporary workaround, this should be done before sql\n",
    "clicks_df['article_pool'] = clicks_df['article_pool'].apply(lambda x : eval(x))\n",
    "clicks_df = clicks_df.sample(frac=1).reset_index()\n",
    "\n",
    "# Joseph et. al use a learning model that assumes k-groups, each of which supplies an arm in each round.\n",
    "# The original Yahoo! dataset does not comply with this assumption, as each of the 20 articles suggested\n",
    "# are not necessarily from any such groups, nor is it a reasonable assumption that there are 20\n",
    "# distinct quality functions corresponding to the indices of the pool.\n",
    "# Instead, in a simplification, we perform clustering on all of the articles to assemble a smaller set of \n",
    "# `num_clusters` groups. Then, in each round, we instead pick a single representative article group for\n",
    "# the user. \n",
    "num_clusters = 3\n",
    "article_km = KMeans(n_clusters=num_clusters)\n",
    "predictions = article_km.fit_predict(articles_df.dropna().as_matrix())\n",
    "article_clusters = dict(zip(list(articles_df.dropna().index), predictions))\n",
    "clicks_df['reduced'] = clicks_df['article_pool'].apply(lambda x : list(set([article_clusters[y] for y in x])))\n",
    "clicks_df['displayed_reduced'] = clicks_df['displayed'].apply(lambda x : article_clusters[str(x)])\n",
    "\n",
    "user_feat_mat = clicks_df.as_matrix(['user_1', 'user_2', 'user_3', 'user_4', 'user_5', 'user_6'])\n",
    "clicked_mat = clicks_df.as_matrix(['displayed_reduced', 'clicked'])"
   ]
  },
  {
   "cell_type": "code",
   "execution_count": 3,
   "metadata": {
    "collapsed": true,
    "scrolled": true
   },
   "outputs": [],
   "source": [
    "def eta(T):\n",
    "    \"\"\" \n",
    "    Generates the cutoff probabilities for exploration rounds in interval chaining. \n",
    "    \n",
    "    :param T: the total number of iterations\n",
    "    \"\"\"\n",
    "    return np.array([pow(t, -1/3) for t in range(1,T+1)])"
   ]
  },
  {
   "cell_type": "code",
   "execution_count": 4,
   "metadata": {
    "collapsed": true,
    "scrolled": true
   },
   "outputs": [],
   "source": [
    "def select_logged_event(t, k, d):\n",
    "    \"\"\"\n",
    "    Select the t'th record from the event log.\n",
    "    \n",
    "    :param t: the timestep\n",
    "    :param k: the number of arms\n",
    "    :param d: the number of features\n",
    "    :return:  a tuple containing a (k x 1 x d) log vector, the id of the article displayed,\n",
    "              whether the article was clicked, and the article pool index corresponding\n",
    "              to the article\n",
    "    \"\"\"\n",
    "    # Extract all article vectors for first log item.\n",
    "    _article_pool = clicks_df.ix[t]['reduced']\n",
    "    _article_vecs = np.array([article_km.cluster_centers_[x] if x in _article_pool else np.zeros(6) for x in range(k)])\n",
    "    # For each of the article row vectors, add a copy of the user features.\n",
    "    logged = np.append(_article_vecs, values=np.tile(user_feat_mat[t], (len(_article_vecs), 1)), axis=1)\n",
    "#     rewards = np.array(list(map(lambda x : 1 if int(x) == disp_mat[t] else 0, _article_pool)))\n",
    "#     return np.vstack([X, logged.reshape((1, k, d))*1000]), np.append(Y, clicked_mat[t])\n",
    "    disp_index = _article_pool.index(clicked_mat[t,0])\n",
    "    \n",
    "#     return logged.reshape((k, 1, d)), clicked_mat[t], disp_index\n",
    "    return logged.reshape((k, 1, d)), clicked_mat[t, 0], clicked_mat[t, 1], disp_index"
   ]
  },
  {
   "cell_type": "code",
   "execution_count": 5,
   "metadata": {
    "collapsed": true,
    "scrolled": true
   },
   "outputs": [],
   "source": [
    "def logit_intervals(X, Y, k, _delta, T, article_pool):\n",
    "    intervals = []\n",
    "    for i in article_pool:\n",
    "        t = len(X[i]) - 1\n",
    "        model = LR() \n",
    "        if len(set(Y[i][:t])) < 2: \n",
    "            continue\n",
    "        else:\n",
    "            _Xti = X[i][:t]\n",
    "            _XtiT = transpose(_Xti)\n",
    "            _XTX = pinv(_XtiT.dot(_Xti))\n",
    "            _Yti = Y[i][:t]\n",
    "            _xti = X[i][t]\n",
    "            model.fit(_Xti, _Yti)\n",
    "            Bh_t_i = model.coef_\n",
    "            yh_t_i = Bh_t_i.dot(_xti)[0]\n",
    "            _s2 = np.var(_Yti)\n",
    "            w_t_i = norm.ppf(1 - _delta/(2*T*k), loc=0, \n",
    "                         scale=np.sqrt(_s2 * _xti.dot(_XTX).dot(transpose(_xti))))\n",
    "            if not math.isnan(w_t_i):\n",
    "                intervals.append([logistic(yh_t_i - w_t_i), logistic(yh_t_i + w_t_i)])\n",
    "            \n",
    "    return intervals"
   ]
  },
  {
   "cell_type": "code",
   "execution_count": 17,
   "metadata": {
    "collapsed": true,
    "scrolled": true
   },
   "outputs": [],
   "source": [
    "# def ols_intervals(X, Y, k, _delta, T):\n",
    "#     intervals = []\n",
    "#     for i in range(k):\n",
    "#         t = len(X[i])-1\n",
    "#         if t <= 0:\n",
    "#             continue\n",
    "#         # Compute beta hat.\n",
    "#         _Xti = X[i][:t]\n",
    "#         _XtiT = transpose(_Xti)\n",
    "#         _XTX = pinv(_XtiT.dot(_Xti))\n",
    "#         _Yti = Y[i][:t]\n",
    "#         Bh_t_i = _XTX.dot(_XtiT).dot(_Yti)  # Compute OLS estimators.\n",
    "# #         from IPython.core.debugger import Tracer; Tracer()() \n",
    "#         yh_t_i = X[i][t].dot(Bh_t_i)\n",
    "#         _s2 = np.var(Y[i][:t-1])\n",
    "#         # Compute the confidence interval width using the inverse CDF.\n",
    "#         w_t_i = norm.ppf(1 - _delta/(2*T*k), loc=0, \n",
    "#                          scale=np.sqrt(_s2 * X[i][t].dot(_XTX).dot(transpose(X[i][t]))))\n",
    "#         if not math.isnan(w_t_i):\n",
    "#             intervals.append([yh_t_i - w_t_i, yh_t_i + w_t_i])\n",
    "#     return intervals"
   ]
  },
  {
   "cell_type": "code",
   "execution_count": 125,
   "metadata": {
    "collapsed": true
   },
   "outputs": [],
   "source": [
    "def compute_chain(i_st, intervals):\n",
    "    # Sort intervals by decreasing order.\n",
    "    chain = [i_st]\n",
    "#     print(intervals[:,1])\n",
    "    ordering = np.argsort(intervals[:,1])[::-1]\n",
    "    intervals = intervals[ordering,:]\n",
    "    \n",
    "    lowest_in_chain = intervals[0][0]\n",
    "    for i in range(1, len(intervals)):\n",
    "        if intervals[i][1] >= lowest_in_chain:\n",
    "            chain.append(i)\n",
    "            lowest_in_chain = min(lowest_in_chain, intervals[i][0])\n",
    "        else:\n",
    "            return chain\n",
    "    return chain"
   ]
  },
  {
   "cell_type": "code",
   "execution_count": 123,
   "metadata": {
    "collapsed": true
   },
   "outputs": [],
   "source": [
    "def pick_interval_chain(intervals, _article_pool):\n",
    "    if not intervals or len(intervals) == 0:\n",
    "        return np.random.choice(_article_pool)\n",
    "    i_st = np.argmax(np.array(intervals)[:,1])\n",
    "    chain = compute_chain(i_st, np.array(intervals))\n",
    "#     print('Computed chain: {0}'.format(chain))\n",
    "    return np.random.choice(chain)"
   ]
  },
  {
   "cell_type": "code",
   "execution_count": 113,
   "metadata": {
    "collapsed": true
   },
   "outputs": [],
   "source": [
    "def pick_top(intervals, _article_pool):\n",
    "    return np.argmax(np.array(intervals)[:,1]) if len(intervals) > 0 else np.random.choice(_article_pool)"
   ]
  },
  {
   "cell_type": "code",
   "execution_count": 118,
   "metadata": {
    "collapsed": true,
    "scrolled": true
   },
   "outputs": [],
   "source": [
    "def bandits_yahoo(T, pick_fn):\n",
    "    \"\"\"\n",
    "    Simulates T rounds of LRTopInterval for k using the evaluation framework\n",
    "    described in https://arxiv.org/pdf/1003.5956.pdf.\n",
    "    \n",
    "    Evaluation Protocol\n",
    "    ===================\n",
    "    Let σ be an input stream of logged events to be used for the simulation,\n",
    "    where an event consists of a tuple consisting of the user vector, \n",
    "    20 article vectors (context vectors), the displayed vector (selected arm), \n",
    "    and the result (observed reward).\n",
    "    Step through each element s sampled from the stream.\n",
    "    Let t denote the current time-step in the algorithm and h_{t-1} prior history.\n",
    "    If given h_{t-1} and the current context, the algorithm picks the same vector\n",
    "    as the selected arm - retain the event and add it to the history. Otherwise,\n",
    "    keep processing items.\n",
    "    \n",
    "    :param T: the number of iterations to attempt.\n",
    "    \"\"\"\n",
    "    k = num_clusters\n",
    "    d = 12\n",
    "    X = [np.empty((0, 12)) for i in range(k)]  # For each arm store a t' x d nd-array.\n",
    "    Y = [np.empty((0,1)) for i in range(k)]\n",
    "    _delta = 0.1\n",
    "    _eta = eta(T)                               # exploration cutoff probabilities\n",
    "    cursor = 0\n",
    "    performance = []\n",
    "    for t in range(T):\n",
    "        if cursor >= len(clicks_df):\n",
    "            break\n",
    "        if t % 1000 == 0:\n",
    "            print('Iteration {0}/{1}. Cursor: {2}'.format(t, T, cursor))\n",
    "        if t < k:\n",
    "            print('Seeding data for arm {0}'.format(t))\n",
    "            # Pull each arm once to start.\n",
    "            while cursor < len(clicks_df)-1:\n",
    "                logged, _, disp_clicked, disp_index = select_logged_event(cursor, k, d)\n",
    "                cursor += 1\n",
    "                # Terminate this loop if we've found the arm we want\n",
    "                if disp_index == t:\n",
    "                    X[disp_index] = np.vstack([X[disp_index], logged[disp_index]])\n",
    "                    Y[disp_index] = np.append(Y[disp_index], disp_clicked)\n",
    "                    break\n",
    "        elif t < d or np.random.rand() <= _eta[t]:\n",
    "            # Play uniformly at random from [1, k].\n",
    "            logged, _, disp_clicked, disp_index = select_logged_event(cursor, k, d)\n",
    "            X[disp_index] = np.vstack([X[disp_index], logged[disp_index]])\n",
    "            Y[disp_index] = np.append(Y[disp_index], disp_clicked)\n",
    "            cursor += 1\n",
    "#             print('Iteration [{0} / {1}]'.format(t, T))\n",
    "        else:\n",
    "            # Keep looping through the logs until the arm we pick matches with the one in the log.\n",
    "            # This way, we can evaluate our success with the known result.\n",
    "            while cursor < len(clicks_df)-1:\n",
    "                # 1. Compute input vector for the next item in the stream and the corresponding reward.\n",
    "                logged, _, disp_clicked, disp_index = select_logged_event(cursor, k, d)\n",
    "                Xp = [np.vstack([X[i], logged[i]]) for i in range(k)]\n",
    "                # 2. For each of the available arms, compute the confidence intervals.\n",
    "                _article_pool = clicks_df.ix[cursor]['reduced']\n",
    "                intervals = logit_intervals(Xp, Y, k, _delta, T, _article_pool)\n",
    "                # Pick the agent with the largest upper bound.\n",
    "                pick = pick_fn(intervals, _article_pool)\n",
    "#                 print('Intervals: {0}'.format(intervals))\n",
    "                if clicks_df.ix[cursor]['displayed_reduced'] == int(_article_pool[pick]):\n",
    "                    X[disp_index] = np.vstack([X[disp_index], logged[disp_index]])\n",
    "                    Y[disp_index] = np.append(Y[disp_index], disp_clicked)\n",
    "#                     print('Iteration [{0} / {1}], matched with stream! {2}'.format(t, T, disp_clicked))\n",
    "                    performance.append(disp_clicked)\n",
    "                    cursor += 1\n",
    "                    break\n",
    "                cursor += 1\n",
    "    \n",
    "    # Compute sum of best picks over each iteration.\n",
    "    print('Best: {0}'.format(t))\n",
    "    print('Performance: {0}'.format(sum(performance)))\n",
    "    return performance"
   ]
  },
  {
   "cell_type": "code",
   "execution_count": 119,
   "metadata": {
    "collapsed": true
   },
   "outputs": [],
   "source": [
    "def top_interval_yahoo(T):\n",
    "    return bandits_yahoo(T, pick_top)\n",
    "\n",
    "def interval_chaining_yahoo(T):\n",
    "    return bandits_yahoo(T, pick_interval_chain)"
   ]
  },
  {
   "cell_type": "code",
   "execution_count": 129,
   "metadata": {},
   "outputs": [
    {
     "name": "stdout",
     "output_type": "stream",
     "text": [
      "Iteration 0/10000. Cursor: 0\n",
      "Seeding data for arm 0\n",
      "Seeding data for arm 1\n",
      "Seeding data for arm 2\n",
      "Iteration 1000/10000. Cursor: 2111\n",
      "Iteration 2000/10000. Cursor: 4177\n",
      "Iteration 3000/10000. Cursor: 6098\n",
      "Iteration 4000/10000. Cursor: 7868\n",
      "Iteration 5000/10000. Cursor: 9806\n",
      "Iteration 6000/10000. Cursor: 11579\n",
      "Iteration 7000/10000. Cursor: 13438\n",
      "Iteration 8000/10000. Cursor: 15564\n",
      "Iteration 9000/10000. Cursor: 17763\n",
      "Best: 9999\n",
      "Performance: 4605\n"
     ]
    }
   ],
   "source": [
    "performance_run_2 = interval_chaining_yahoo(10000)"
   ]
  },
  {
   "cell_type": "code",
   "execution_count": 7,
   "metadata": {
    "scrolled": false
   },
   "outputs": [
    {
     "name": "stdout",
     "output_type": "stream",
     "text": [
      "Iteration 0/10000. Cursor: 0\n",
      "Seeding data for arm 0\n",
      "Seeding data for arm 1\n",
      "Seeding data for arm 2\n",
      "Iteration 100/10000. Cursor: 294\n",
      "Iteration 200/10000. Cursor: 435\n",
      "Iteration 300/10000. Cursor: 563\n",
      "Iteration 400/10000. Cursor: 959\n",
      "Iteration 500/10000. Cursor: 1484\n",
      "Iteration 600/10000. Cursor: 1976\n",
      "Iteration 700/10000. Cursor: 2511\n",
      "Iteration 800/10000. Cursor: 2921\n",
      "Iteration 900/10000. Cursor: 3300\n",
      "Iteration 1000/10000. Cursor: 3756\n",
      "Iteration 1100/10000. Cursor: 4268\n",
      "Iteration 1200/10000. Cursor: 4734\n",
      "Iteration 1300/10000. Cursor: 5212\n",
      "Iteration 1400/10000. Cursor: 5645\n",
      "Iteration 1500/10000. Cursor: 6006\n",
      "Iteration 1600/10000. Cursor: 6363\n",
      "Iteration 1700/10000. Cursor: 6731\n",
      "Iteration 1800/10000. Cursor: 7090\n",
      "Iteration 1900/10000. Cursor: 7402\n",
      "Iteration 2000/10000. Cursor: 7792\n",
      "Iteration 2100/10000. Cursor: 8173\n",
      "Iteration 2200/10000. Cursor: 8501\n",
      "Iteration 2300/10000. Cursor: 8888\n",
      "Iteration 2400/10000. Cursor: 9262\n",
      "Iteration 2500/10000. Cursor: 9623\n",
      "Iteration 2600/10000. Cursor: 10031\n",
      "Iteration 2700/10000. Cursor: 10444\n",
      "Iteration 2800/10000. Cursor: 10871\n",
      "Iteration 2900/10000. Cursor: 11210\n",
      "Iteration 3000/10000. Cursor: 11732\n",
      "Iteration 3100/10000. Cursor: 12220\n",
      "Iteration 3200/10000. Cursor: 12591\n",
      "Iteration 3300/10000. Cursor: 12949\n",
      "Iteration 3400/10000. Cursor: 13469\n",
      "Iteration 3500/10000. Cursor: 13966\n",
      "Iteration 3600/10000. Cursor: 14475\n",
      "Iteration 3700/10000. Cursor: 14943\n",
      "Iteration 3800/10000. Cursor: 15279\n",
      "Iteration 3900/10000. Cursor: 15789\n",
      "Iteration 4000/10000. Cursor: 16292\n",
      "Iteration 4100/10000. Cursor: 16789\n",
      "Iteration 4200/10000. Cursor: 17160\n",
      "Iteration 4300/10000. Cursor: 17579\n",
      "Iteration 4400/10000. Cursor: 18087\n",
      "Iteration 4500/10000. Cursor: 18547\n",
      "Iteration 4600/10000. Cursor: 18979\n",
      "Iteration 4700/10000. Cursor: 19420\n",
      "Iteration 4800/10000. Cursor: 19772\n",
      "Iteration 4900/10000. Cursor: 20235\n",
      "Iteration 5000/10000. Cursor: 20679\n",
      "Iteration 5100/10000. Cursor: 21059\n",
      "Iteration 5200/10000. Cursor: 21484\n",
      "Iteration 5300/10000. Cursor: 21937\n",
      "Iteration 5400/10000. Cursor: 22316\n",
      "Iteration 5500/10000. Cursor: 22742\n",
      "Iteration 5600/10000. Cursor: 23128\n",
      "Iteration 5700/10000. Cursor: 23561\n",
      "Iteration 5800/10000. Cursor: 23908\n",
      "Iteration 5900/10000. Cursor: 24232\n",
      "Iteration 6000/10000. Cursor: 24549\n",
      "Iteration 6100/10000. Cursor: 24881\n",
      "Iteration 6200/10000. Cursor: 25171\n",
      "Iteration 6300/10000. Cursor: 25464\n",
      "Iteration 6400/10000. Cursor: 25777\n",
      "Iteration 6500/10000. Cursor: 26009\n",
      "Iteration 6600/10000. Cursor: 26314\n",
      "Iteration 6700/10000. Cursor: 26656\n",
      "Iteration 6800/10000. Cursor: 27004\n",
      "Iteration 6900/10000. Cursor: 27407\n",
      "Iteration 7000/10000. Cursor: 27719\n",
      "Iteration 7100/10000. Cursor: 28089\n",
      "Iteration 7200/10000. Cursor: 28500\n",
      "Iteration 7300/10000. Cursor: 28897\n",
      "Iteration 7400/10000. Cursor: 29172\n",
      "Iteration 7500/10000. Cursor: 29481\n",
      "Iteration 7600/10000. Cursor: 29767\n",
      "Iteration 7700/10000. Cursor: 30019\n",
      "Iteration 7800/10000. Cursor: 30315\n",
      "Iteration 7900/10000. Cursor: 30617\n",
      "Iteration 8000/10000. Cursor: 30870\n",
      "Iteration 8100/10000. Cursor: 31139\n",
      "Iteration 8200/10000. Cursor: 31493\n",
      "Iteration 8300/10000. Cursor: 31792\n",
      "Iteration 8400/10000. Cursor: 32056\n",
      "Iteration 8500/10000. Cursor: 32338\n",
      "Iteration 8600/10000. Cursor: 32622\n",
      "Iteration 8700/10000. Cursor: 32899\n",
      "Iteration 8800/10000. Cursor: 33204\n",
      "Iteration 8900/10000. Cursor: 33502\n",
      "Iteration 9000/10000. Cursor: 33758\n",
      "Iteration 9100/10000. Cursor: 34053\n",
      "Iteration 9200/10000. Cursor: 34303\n",
      "Iteration 9300/10000. Cursor: 34581\n",
      "Iteration 9400/10000. Cursor: 34882\n",
      "Iteration 9500/10000. Cursor: 35179\n",
      "Iteration 9600/10000. Cursor: 35444\n",
      "Iteration 9700/10000. Cursor: 35733\n",
      "Iteration 9800/10000. Cursor: 36006\n",
      "Iteration 9900/10000. Cursor: 36290\n",
      "Best: 9999\n",
      "Performance: 4367\n"
     ]
    }
   ],
   "source": [
    "performance_run = top_interval_yahoo(10000)"
   ]
  },
  {
   "cell_type": "code",
   "execution_count": 53,
   "metadata": {
    "collapsed": true
   },
   "outputs": [],
   "source": [
    "import matplotlib.pyplot as plt\n",
    "import matplotlib.lines as mlines\n",
    "from itertools import accumulate"
   ]
  },
  {
   "cell_type": "code",
   "execution_count": 99,
   "metadata": {},
   "outputs": [
    {
     "data": {
      "text/plain": [
       "0.46901514337879929"
      ]
     },
     "execution_count": 99,
     "metadata": {},
     "output_type": "execute_result"
    }
   ],
   "source": [
    "cum_success_rate[-1]"
   ]
  },
  {
   "cell_type": "code",
   "execution_count": 98,
   "metadata": {},
   "outputs": [
    {
     "data": {
      "image/png": "[encoded data removed]",
      "text/plain": [
       "<matplotlib.figure.Figure at 0x1138ed4a8>"
      ]
     },
     "metadata": {},
     "output_type": "display_data"
    }
   ],
   "source": [
    "cum_success_rate = np.array([y/x for x,y in enumerate(cum_performance, start=1)])\n",
    "plt.plot(cum_best, cum_success_rate, c='orange')\n",
    "plt.plot(cum_best, [1/num_clusters] * len(cum_performance), c='grey')\n",
    "\n",
    "perf_leg = mlines.Line2D([], [], color='orange', marker='_', markersize=11, label='Performance', linestyle='')\n",
    "baseline_leg = mlines.Line2D([], [], color='grey', marker='_', markersize=11, label='Baseline', linestyle='')\n",
    "plt.legend(handles=[perf_leg, baseline_leg])\n",
    "plt.title('Success Rate of LR Top-Interval Algorithm on Yahoo! Dataset vs. Baseline')\n",
    "plt.show()"
   ]
  },
  {
   "cell_type": "code",
   "execution_count": 133,
   "metadata": {},
   "outputs": [
    {
     "data": {
      "image/png": "[encoded data removed]",
      "text/plain": [
       "<matplotlib.figure.Figure at 0x113440518>"
      ]
     },
     "metadata": {},
     "output_type": "display_data"
    }
   ],
   "source": [
    "cum_performance = np.array(list(accumulate(performance_run))) \n",
    "cum_best = np.arange(1, len(cum_performance)+1)\n",
    "cum_regret = np.subtract(cum_best, cum_performance)\n",
    "plt.plot(cum_best, cum_performance, c='teal')\n",
    "plt.plot(cum_best, cum_best, c='orange')\n",
    "plt.plot(cum_best, cum_regret, c='green')\n",
    "\n",
    "best_leg = mlines.Line2D([], [], color='orange', marker='_', markersize=11, label='Best', linestyle='')\n",
    "perf_leg = mlines.Line2D([], [], color='teal', marker='_', markersize=11, label='Performance', linestyle='')\n",
    "regret_leg = mlines.Line2D([], [], color='green', marker='_', markersize=11, label='Regret', linestyle='')\n",
    "plt.legend(handles=[best_leg, perf_leg, regret_leg])\n",
    "plt.title('Performance of LR Interval-Chaining Algorithm on Yahoo! Dataset')\n",
    "\n",
    "plt.show()"
   ]
  },
  {
   "cell_type": "code",
   "execution_count": 132,
   "metadata": {},
   "outputs": [
    {
     "data": {
      "image/png": "[encoded data removed]",
      "text/plain": [
       "<matplotlib.figure.Figure at 0x1111544a8>"
      ]
     },
     "metadata": {},
     "output_type": "display_data"
    }
   ],
   "source": [
    "cum_success_rate_2 = np.array([y/x for x,y in enumerate(cum_performance_2, start=1)])\n",
    "plt.plot(cum_best, cum_success_rate_2, c='orange')\n",
    "plt.plot(cum_best, [1/num_clusters] * len(cum_performance_2), c='grey')\n",
    "\n",
    "perf_leg = mlines.Line2D([], [], color='orange', marker='_', markersize=11, label='Performance', linestyle='')\n",
    "baseline_leg = mlines.Line2D([], [], color='grey', marker='_', markersize=11, label='Baseline', linestyle='')\n",
    "plt.legend(handles=[perf_leg, baseline_leg])\n",
    "plt.title('Success Rate of LR Interval-Chaining Algorithm on Yahoo! Dataset vs. Baseline')\n",
    "plt.show()"
   ]
  },
  {
   "cell_type": "code",
   "execution_count": 131,
   "metadata": {},
   "outputs": [
    {
     "data": {
      "image/png": "[encoded data removed]",
      "text/plain": [
       "<matplotlib.figure.Figure at 0x113d85cc0>"
      ]
     },
     "metadata": {},
     "output_type": "display_data"
    }
   ],
   "source": [
    "cum_performance_2 = np.array(list(accumulate(performance_run_2))) \n",
    "cum_best = np.arange(1, len(cum_performance_2)+1)\n",
    "cum_regret_2 = np.subtract(cum_best, cum_performance_2)\n",
    "plt.plot(cum_best, cum_performance_2, c='teal')\n",
    "plt.plot(cum_best, cum_best, c='orange')\n",
    "plt.plot(cum_best, cum_regret_2, c='green')\n",
    "\n",
    "best_leg = mlines.Line2D([], [], color='orange', marker='_', markersize=11, label='Best', linestyle='')\n",
    "perf_leg = mlines.Line2D([], [], color='teal', marker='_', markersize=11, label='Performance', linestyle='')\n",
    "regret_leg = mlines.Line2D([], [], color='green', marker='_', markersize=11, label='Regret', linestyle='')\n",
    "plt.legend(handles=[best_leg, perf_leg, regret_leg])\n",
    "plt.title('Performance of LR Top-Interval Algorithm on Yahoo! Dataset')\n",
    "\n",
    "plt.show()"
   ]
  },
  {
   "cell_type": "markdown",
   "metadata": {},
   "source": [
    "## Examining Malformed Data\n",
    "\n",
    "I observed that some of the event log items have > 20 articles in the article pool, which creates a problem since we assume a constant $k$ arms across all events.\n",
    "\n",
    "It turns out that there are around 2.53 million such events out of the 4.68 million in the first batch file, which is a lot! \n",
    "\n",
    "Additionally, it is worth noting that there are a good number of articles that have identical feature vectors despite having different labels.\n",
    "\n",
    "However, it is not as simple as removing the duplicates for all logged event items, as I determined at least one such case where doing so would result in < 20 articles in the pool. Therefore, distinct articles are distinct despite having identical article vectors (which is troublesome). \n",
    "\n",
    "A workaround I am using now is simply to only select the events with 20 articles, which seems to work in the interim."
   ]
  },
  {
   "cell_type": "code",
   "execution_count": null,
   "metadata": {
    "collapsed": true,
    "scrolled": false
   },
   "outputs": [],
   "source": [
    "pd.read_sql_query('''SELECT COUNT(*) FROM clicks''', con=engine)"
   ]
  },
  {
   "cell_type": "code",
   "execution_count": null,
   "metadata": {
    "collapsed": true,
    "scrolled": false
   },
   "outputs": [],
   "source": [
    "pd.read_sql_query('''SELECT COUNT(*) FROM clicks''', con=engine)\n",
    "bad_df = pd.read_sql_query('''SELECT * FROM clicks WHERE length(article_pool) >= 210''', con=engine)\n",
    "len(bad_df)"
   ]
  },
  {
   "cell_type": "code",
   "execution_count": null,
   "metadata": {
    "collapsed": true,
    "scrolled": true
   },
   "outputs": [],
   "source": [
    "bad_sample = eval(bad_df.ix[80840]['article_pool'])"
   ]
  },
  {
   "cell_type": "code",
   "execution_count": null,
   "metadata": {
    "collapsed": true,
    "scrolled": true
   },
   "outputs": [],
   "source": [
    "dupes = pd.DataFrame(articles_df.duplicated(), columns=['Result'])\n",
    "articles_df.ix[list(dupes[dupes.Result == True].index)]"
   ]
  },
  {
   "cell_type": "code",
   "execution_count": null,
   "metadata": {
    "collapsed": true,
    "scrolled": true
   },
   "outputs": [],
   "source": [
    "# I've constructed an inverse index to allow swift de-duplication of articles with identical vectors.\n",
    "d1 = {key:'109509' for key in ['109509', '109503', '109494', '109525', '109530', '109533', '109545']}\n",
    "d2 = {key:'109506' for key in ['109506', '109547', '109550']}\n",
    "d3 = {key:'109527' for key in ['109527', '109531', '109543']}\n",
    "dupe_index = {**d1, **d2, **d3}"
   ]
  },
  {
   "cell_type": "code",
   "execution_count": null,
   "metadata": {
    "collapsed": true,
    "scrolled": true
   },
   "outputs": [],
   "source": [
    "print(len(bad_sample))\n",
    "print(len(set(map(lambda x : dupe_index[x] if x in dupe_index else x, bad_sample))))"
   ]
  },
  {
   "cell_type": "code",
   "execution_count": null,
   "metadata": {
    "collapsed": true,
    "scrolled": true
   },
   "outputs": [],
   "source": [
    "dupe_index['109509']"
   ]
  },
  {
   "cell_type": "markdown",
   "metadata": {},
   "source": [
    "The assumption of maintaining 20 different arms proved to be a poor choice. Instead, I run a clustering algorithm to clump together the articles."
   ]
  },
  {
   "cell_type": "code",
   "execution_count": null,
   "metadata": {
    "collapsed": true,
    "scrolled": true
   },
   "outputs": [],
   "source": [
    "num_clusters = 4\n",
    "model = KMeans(n_clusters=num_clusters)\n",
    "predictions = model.fit_predict(articles_df.dropna().as_matrix())\n",
    "clusters = dict(zip(list(articles_df.dropna().index), predictions))\n",
    "clicks_df['reduced'] = clicks_df['article_pool'].apply(lambda x : list(set([clusters[y] for y in x])))\n",
    "clicks_df['displayed_reduced'] = clicks_df['displayed'].apply(lambda x : clusters[str(x)])"
   ]
  },
  {
   "cell_type": "code",
   "execution_count": null,
   "metadata": {
    "collapsed": true,
    "scrolled": true
   },
   "outputs": [],
   "source": []
  },
  {
   "cell_type": "code",
   "execution_count": null,
   "metadata": {
    "collapsed": true,
    "scrolled": true
   },
   "outputs": [],
   "source": []
  }
 ],
 "metadata": {
  "kernelspec": {
   "display_name": "fairml",
   "language": "python",
   "name": "fairml"
  },
  "language_info": {
   "codemirror_mode": {
    "name": "ipython",
    "version": 3
   },
   "file_extension": ".py",
   "mimetype": "text/x-python",
   "name": "python",
   "nbconvert_exporter": "python",
   "pygments_lexer": "ipython3",
   "version": "3.6.0"
  }
 },
 "nbformat": 4,
 "nbformat_minor": 2
}
